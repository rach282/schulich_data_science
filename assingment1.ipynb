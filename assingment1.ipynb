{
 "cells": [
  {
   "cell_type": "code",
   "execution_count": 1,
   "metadata": {},
   "outputs": [],
   "source": [
    "import pandas as pd\n",
    "import seaborn as sns"
   ]
  },
  {
   "cell_type": "code",
   "execution_count": 2,
   "metadata": {},
   "outputs": [],
   "source": [
    "df = pd.read_csv('/Users/rachyc/Documents/MMAI/MBAN6110/sales_data.csv')"
   ]
  },
  {
   "cell_type": "code",
   "execution_count": 3,
   "metadata": {},
   "outputs": [
    {
     "data": {
      "text/html": [
       "<div>\n",
       "<style scoped>\n",
       "    .dataframe tbody tr th:only-of-type {\n",
       "        vertical-align: middle;\n",
       "    }\n",
       "\n",
       "    .dataframe tbody tr th {\n",
       "        vertical-align: top;\n",
       "    }\n",
       "\n",
       "    .dataframe thead th {\n",
       "        text-align: right;\n",
       "    }\n",
       "</style>\n",
       "<table border=\"1\" class=\"dataframe\">\n",
       "  <thead>\n",
       "    <tr style=\"text-align: right;\">\n",
       "      <th></th>\n",
       "      <th>Product</th>\n",
       "      <th>Region</th>\n",
       "      <th>Price</th>\n",
       "      <th>Units Sold</th>\n",
       "      <th>Sale Date</th>\n",
       "    </tr>\n",
       "  </thead>\n",
       "  <tbody>\n",
       "    <tr>\n",
       "      <th>0</th>\n",
       "      <td>NaN</td>\n",
       "      <td>Region_1</td>\n",
       "      <td>72.87</td>\n",
       "      <td>10.0</td>\n",
       "      <td>2022-01-01</td>\n",
       "    </tr>\n",
       "    <tr>\n",
       "      <th>1</th>\n",
       "      <td>Product_40</td>\n",
       "      <td>Region_2</td>\n",
       "      <td>46.19</td>\n",
       "      <td>10.0</td>\n",
       "      <td>2022-01-02</td>\n",
       "    </tr>\n",
       "    <tr>\n",
       "      <th>2</th>\n",
       "      <td>Product_1</td>\n",
       "      <td>Region_5</td>\n",
       "      <td>NaN</td>\n",
       "      <td>4.0</td>\n",
       "      <td>2022-01-03</td>\n",
       "    </tr>\n",
       "    <tr>\n",
       "      <th>3</th>\n",
       "      <td>Product_6</td>\n",
       "      <td>Region_8</td>\n",
       "      <td>143.47</td>\n",
       "      <td>8.0</td>\n",
       "      <td>2022-01-04</td>\n",
       "    </tr>\n",
       "    <tr>\n",
       "      <th>4</th>\n",
       "      <td>Product_44</td>\n",
       "      <td>Region_4</td>\n",
       "      <td>122.54</td>\n",
       "      <td>10.0</td>\n",
       "      <td>2022-01-05</td>\n",
       "    </tr>\n",
       "    <tr>\n",
       "      <th>...</th>\n",
       "      <td>...</td>\n",
       "      <td>...</td>\n",
       "      <td>...</td>\n",
       "      <td>...</td>\n",
       "      <td>...</td>\n",
       "    </tr>\n",
       "    <tr>\n",
       "      <th>1045</th>\n",
       "      <td>Product_42</td>\n",
       "      <td>Region_3</td>\n",
       "      <td>18.63</td>\n",
       "      <td>9.0</td>\n",
       "      <td>2023-07-10</td>\n",
       "    </tr>\n",
       "    <tr>\n",
       "      <th>1046</th>\n",
       "      <td>Product_4</td>\n",
       "      <td>Region_3</td>\n",
       "      <td>159.27</td>\n",
       "      <td>10.0</td>\n",
       "      <td>2024-07-14</td>\n",
       "    </tr>\n",
       "    <tr>\n",
       "      <th>1047</th>\n",
       "      <td>Product_43</td>\n",
       "      <td>Region_1</td>\n",
       "      <td>2.91</td>\n",
       "      <td>13.0</td>\n",
       "      <td>2023-08-17</td>\n",
       "    </tr>\n",
       "    <tr>\n",
       "      <th>1048</th>\n",
       "      <td>Product_27</td>\n",
       "      <td>Region_7</td>\n",
       "      <td>1.96</td>\n",
       "      <td>8.0</td>\n",
       "      <td>2024-03-10</td>\n",
       "    </tr>\n",
       "    <tr>\n",
       "      <th>1049</th>\n",
       "      <td>Product_3</td>\n",
       "      <td>NaN</td>\n",
       "      <td>302.68</td>\n",
       "      <td>11.0</td>\n",
       "      <td>2023-09-09</td>\n",
       "    </tr>\n",
       "  </tbody>\n",
       "</table>\n",
       "<p>1050 rows × 5 columns</p>\n",
       "</div>"
      ],
      "text/plain": [
       "         Product    Region   Price  Units Sold   Sale Date\n",
       "0            NaN  Region_1   72.87        10.0  2022-01-01\n",
       "1     Product_40  Region_2   46.19        10.0  2022-01-02\n",
       "2      Product_1  Region_5     NaN         4.0  2022-01-03\n",
       "3      Product_6  Region_8  143.47         8.0  2022-01-04\n",
       "4     Product_44  Region_4  122.54        10.0  2022-01-05\n",
       "...          ...       ...     ...         ...         ...\n",
       "1045  Product_42  Region_3   18.63         9.0  2023-07-10\n",
       "1046   Product_4  Region_3  159.27        10.0  2024-07-14\n",
       "1047  Product_43  Region_1    2.91        13.0  2023-08-17\n",
       "1048  Product_27  Region_7    1.96         8.0  2024-03-10\n",
       "1049   Product_3       NaN  302.68        11.0  2023-09-09\n",
       "\n",
       "[1050 rows x 5 columns]"
      ]
     },
     "execution_count": 3,
     "metadata": {},
     "output_type": "execute_result"
    }
   ],
   "source": [
    "df"
   ]
  },
  {
   "cell_type": "code",
   "execution_count": 4,
   "metadata": {},
   "outputs": [
    {
     "data": {
      "text/html": [
       "<div>\n",
       "<style scoped>\n",
       "    .dataframe tbody tr th:only-of-type {\n",
       "        vertical-align: middle;\n",
       "    }\n",
       "\n",
       "    .dataframe tbody tr th {\n",
       "        vertical-align: top;\n",
       "    }\n",
       "\n",
       "    .dataframe thead th {\n",
       "        text-align: right;\n",
       "    }\n",
       "</style>\n",
       "<table border=\"1\" class=\"dataframe\">\n",
       "  <thead>\n",
       "    <tr style=\"text-align: right;\">\n",
       "      <th></th>\n",
       "      <th>count</th>\n",
       "      <th>mean</th>\n",
       "      <th>std</th>\n",
       "      <th>min</th>\n",
       "      <th>25%</th>\n",
       "      <th>50%</th>\n",
       "      <th>75%</th>\n",
       "      <th>max</th>\n",
       "    </tr>\n",
       "    <tr>\n",
       "      <th>Region</th>\n",
       "      <th></th>\n",
       "      <th></th>\n",
       "      <th></th>\n",
       "      <th></th>\n",
       "      <th></th>\n",
       "      <th></th>\n",
       "      <th></th>\n",
       "      <th></th>\n",
       "    </tr>\n",
       "  </thead>\n",
       "  <tbody>\n",
       "    <tr>\n",
       "      <th>Region_1</th>\n",
       "      <td>82.0</td>\n",
       "      <td>10.329268</td>\n",
       "      <td>3.527860</td>\n",
       "      <td>2.0</td>\n",
       "      <td>8.00</td>\n",
       "      <td>10.5</td>\n",
       "      <td>13.00</td>\n",
       "      <td>21.0</td>\n",
       "    </tr>\n",
       "    <tr>\n",
       "      <th>Region_10</th>\n",
       "      <td>81.0</td>\n",
       "      <td>9.814815</td>\n",
       "      <td>3.369388</td>\n",
       "      <td>4.0</td>\n",
       "      <td>8.00</td>\n",
       "      <td>10.0</td>\n",
       "      <td>12.00</td>\n",
       "      <td>19.0</td>\n",
       "    </tr>\n",
       "    <tr>\n",
       "      <th>Region_2</th>\n",
       "      <td>92.0</td>\n",
       "      <td>10.413043</td>\n",
       "      <td>2.875253</td>\n",
       "      <td>5.0</td>\n",
       "      <td>8.75</td>\n",
       "      <td>10.0</td>\n",
       "      <td>12.00</td>\n",
       "      <td>17.0</td>\n",
       "    </tr>\n",
       "    <tr>\n",
       "      <th>Region_3</th>\n",
       "      <td>78.0</td>\n",
       "      <td>9.807692</td>\n",
       "      <td>3.137779</td>\n",
       "      <td>4.0</td>\n",
       "      <td>8.00</td>\n",
       "      <td>10.0</td>\n",
       "      <td>11.75</td>\n",
       "      <td>18.0</td>\n",
       "    </tr>\n",
       "    <tr>\n",
       "      <th>Region_4</th>\n",
       "      <td>79.0</td>\n",
       "      <td>10.227848</td>\n",
       "      <td>3.108918</td>\n",
       "      <td>2.0</td>\n",
       "      <td>8.00</td>\n",
       "      <td>10.0</td>\n",
       "      <td>12.00</td>\n",
       "      <td>16.0</td>\n",
       "    </tr>\n",
       "    <tr>\n",
       "      <th>Region_5</th>\n",
       "      <td>103.0</td>\n",
       "      <td>9.941748</td>\n",
       "      <td>3.333800</td>\n",
       "      <td>3.0</td>\n",
       "      <td>7.00</td>\n",
       "      <td>10.0</td>\n",
       "      <td>12.00</td>\n",
       "      <td>18.0</td>\n",
       "    </tr>\n",
       "    <tr>\n",
       "      <th>Region_6</th>\n",
       "      <td>71.0</td>\n",
       "      <td>10.394366</td>\n",
       "      <td>2.983186</td>\n",
       "      <td>4.0</td>\n",
       "      <td>9.00</td>\n",
       "      <td>10.0</td>\n",
       "      <td>12.00</td>\n",
       "      <td>18.0</td>\n",
       "    </tr>\n",
       "    <tr>\n",
       "      <th>Region_7</th>\n",
       "      <td>85.0</td>\n",
       "      <td>10.894118</td>\n",
       "      <td>3.712987</td>\n",
       "      <td>3.0</td>\n",
       "      <td>8.00</td>\n",
       "      <td>11.0</td>\n",
       "      <td>13.00</td>\n",
       "      <td>22.0</td>\n",
       "    </tr>\n",
       "    <tr>\n",
       "      <th>Region_8</th>\n",
       "      <td>84.0</td>\n",
       "      <td>10.642857</td>\n",
       "      <td>3.364030</td>\n",
       "      <td>3.0</td>\n",
       "      <td>8.75</td>\n",
       "      <td>11.0</td>\n",
       "      <td>12.25</td>\n",
       "      <td>20.0</td>\n",
       "    </tr>\n",
       "    <tr>\n",
       "      <th>Region_9</th>\n",
       "      <td>89.0</td>\n",
       "      <td>9.887640</td>\n",
       "      <td>2.994078</td>\n",
       "      <td>5.0</td>\n",
       "      <td>7.00</td>\n",
       "      <td>10.0</td>\n",
       "      <td>12.00</td>\n",
       "      <td>18.0</td>\n",
       "    </tr>\n",
       "  </tbody>\n",
       "</table>\n",
       "</div>"
      ],
      "text/plain": [
       "           count       mean       std  min   25%   50%    75%   max\n",
       "Region                                                             \n",
       "Region_1    82.0  10.329268  3.527860  2.0  8.00  10.5  13.00  21.0\n",
       "Region_10   81.0   9.814815  3.369388  4.0  8.00  10.0  12.00  19.0\n",
       "Region_2    92.0  10.413043  2.875253  5.0  8.75  10.0  12.00  17.0\n",
       "Region_3    78.0   9.807692  3.137779  4.0  8.00  10.0  11.75  18.0\n",
       "Region_4    79.0  10.227848  3.108918  2.0  8.00  10.0  12.00  16.0\n",
       "Region_5   103.0   9.941748  3.333800  3.0  7.00  10.0  12.00  18.0\n",
       "Region_6    71.0  10.394366  2.983186  4.0  9.00  10.0  12.00  18.0\n",
       "Region_7    85.0  10.894118  3.712987  3.0  8.00  11.0  13.00  22.0\n",
       "Region_8    84.0  10.642857  3.364030  3.0  8.75  11.0  12.25  20.0\n",
       "Region_9    89.0   9.887640  2.994078  5.0  7.00  10.0  12.00  18.0"
      ]
     },
     "execution_count": 4,
     "metadata": {},
     "output_type": "execute_result"
    }
   ],
   "source": [
    "df.groupby('Region')['Units Sold'].describe()"
   ]
  },
  {
   "cell_type": "code",
   "execution_count": 5,
   "metadata": {},
   "outputs": [
    {
     "data": {
      "text/html": [
       "<div>\n",
       "<style scoped>\n",
       "    .dataframe tbody tr th:only-of-type {\n",
       "        vertical-align: middle;\n",
       "    }\n",
       "\n",
       "    .dataframe tbody tr th {\n",
       "        vertical-align: top;\n",
       "    }\n",
       "\n",
       "    .dataframe thead th {\n",
       "        text-align: right;\n",
       "    }\n",
       "</style>\n",
       "<table border=\"1\" class=\"dataframe\">\n",
       "  <thead>\n",
       "    <tr style=\"text-align: right;\">\n",
       "      <th></th>\n",
       "      <th>Product</th>\n",
       "      <th>Region</th>\n",
       "      <th>Price</th>\n",
       "      <th>Units Sold</th>\n",
       "      <th>Sale Date</th>\n",
       "    </tr>\n",
       "  </thead>\n",
       "  <tbody>\n",
       "    <tr>\n",
       "      <th>count</th>\n",
       "      <td>947</td>\n",
       "      <td>942</td>\n",
       "      <td>945.000000</td>\n",
       "      <td>943.000000</td>\n",
       "      <td>1050</td>\n",
       "    </tr>\n",
       "    <tr>\n",
       "      <th>unique</th>\n",
       "      <td>50</td>\n",
       "      <td>10</td>\n",
       "      <td>NaN</td>\n",
       "      <td>NaN</td>\n",
       "      <td>1000</td>\n",
       "    </tr>\n",
       "    <tr>\n",
       "      <th>top</th>\n",
       "      <td>Product_4</td>\n",
       "      <td>Region_5</td>\n",
       "      <td>NaN</td>\n",
       "      <td>NaN</td>\n",
       "      <td>2023-07-31</td>\n",
       "    </tr>\n",
       "    <tr>\n",
       "      <th>freq</th>\n",
       "      <td>30</td>\n",
       "      <td>112</td>\n",
       "      <td>NaN</td>\n",
       "      <td>NaN</td>\n",
       "      <td>2</td>\n",
       "    </tr>\n",
       "    <tr>\n",
       "      <th>mean</th>\n",
       "      <td>NaN</td>\n",
       "      <td>NaN</td>\n",
       "      <td>108.628011</td>\n",
       "      <td>10.200424</td>\n",
       "      <td>NaN</td>\n",
       "    </tr>\n",
       "    <tr>\n",
       "      <th>std</th>\n",
       "      <td>NaN</td>\n",
       "      <td>NaN</td>\n",
       "      <td>167.350086</td>\n",
       "      <td>3.247589</td>\n",
       "      <td>NaN</td>\n",
       "    </tr>\n",
       "    <tr>\n",
       "      <th>min</th>\n",
       "      <td>NaN</td>\n",
       "      <td>NaN</td>\n",
       "      <td>0.190000</td>\n",
       "      <td>2.000000</td>\n",
       "      <td>NaN</td>\n",
       "    </tr>\n",
       "    <tr>\n",
       "      <th>25%</th>\n",
       "      <td>NaN</td>\n",
       "      <td>NaN</td>\n",
       "      <td>26.420000</td>\n",
       "      <td>8.000000</td>\n",
       "      <td>NaN</td>\n",
       "    </tr>\n",
       "    <tr>\n",
       "      <th>50%</th>\n",
       "      <td>NaN</td>\n",
       "      <td>NaN</td>\n",
       "      <td>64.640000</td>\n",
       "      <td>10.000000</td>\n",
       "      <td>NaN</td>\n",
       "    </tr>\n",
       "    <tr>\n",
       "      <th>75%</th>\n",
       "      <td>NaN</td>\n",
       "      <td>NaN</td>\n",
       "      <td>142.310000</td>\n",
       "      <td>12.000000</td>\n",
       "      <td>NaN</td>\n",
       "    </tr>\n",
       "    <tr>\n",
       "      <th>max</th>\n",
       "      <td>NaN</td>\n",
       "      <td>NaN</td>\n",
       "      <td>2636.900000</td>\n",
       "      <td>22.000000</td>\n",
       "      <td>NaN</td>\n",
       "    </tr>\n",
       "  </tbody>\n",
       "</table>\n",
       "</div>"
      ],
      "text/plain": [
       "          Product    Region        Price  Units Sold   Sale Date\n",
       "count         947       942   945.000000  943.000000        1050\n",
       "unique         50        10          NaN         NaN        1000\n",
       "top     Product_4  Region_5          NaN         NaN  2023-07-31\n",
       "freq           30       112          NaN         NaN           2\n",
       "mean          NaN       NaN   108.628011   10.200424         NaN\n",
       "std           NaN       NaN   167.350086    3.247589         NaN\n",
       "min           NaN       NaN     0.190000    2.000000         NaN\n",
       "25%           NaN       NaN    26.420000    8.000000         NaN\n",
       "50%           NaN       NaN    64.640000   10.000000         NaN\n",
       "75%           NaN       NaN   142.310000   12.000000         NaN\n",
       "max           NaN       NaN  2636.900000   22.000000         NaN"
      ]
     },
     "execution_count": 5,
     "metadata": {},
     "output_type": "execute_result"
    }
   ],
   "source": [
    "df.describe(include='all')"
   ]
  },
  {
   "cell_type": "code",
   "execution_count": 6,
   "metadata": {},
   "outputs": [
    {
     "data": {
      "text/plain": [
       "<Axes: xlabel='Units Sold', ylabel='Count'>"
      ]
     },
     "execution_count": 6,
     "metadata": {},
     "output_type": "execute_result"
    },
    {
     "data": {
      "image/png": "[encoded data removed]",
      "text/plain": [
       "<Figure size 640x480 with 1 Axes>"
      ]
     },
     "metadata": {},
     "output_type": "display_data"
    }
   ],
   "source": [
    "sns.histplot(df['Units Sold'])"
   ]
  },
  {
   "cell_type": "code",
   "execution_count": 7,
   "metadata": {},
   "outputs": [
    {
     "data": {
      "text/html": [
       "<div>\n",
       "<style scoped>\n",
       "    .dataframe tbody tr th:only-of-type {\n",
       "        vertical-align: middle;\n",
       "    }\n",
       "\n",
       "    .dataframe tbody tr th {\n",
       "        vertical-align: top;\n",
       "    }\n",
       "\n",
       "    .dataframe thead th {\n",
       "        text-align: right;\n",
       "    }\n",
       "</style>\n",
       "<table border=\"1\" class=\"dataframe\">\n",
       "  <thead>\n",
       "    <tr style=\"text-align: right;\">\n",
       "      <th></th>\n",
       "      <th>Product</th>\n",
       "      <th>Region</th>\n",
       "      <th>Price</th>\n",
       "      <th>Units Sold</th>\n",
       "      <th>Sale Date</th>\n",
       "    </tr>\n",
       "  </thead>\n",
       "  <tbody>\n",
       "    <tr>\n",
       "      <th>436</th>\n",
       "      <td>Product_18</td>\n",
       "      <td>Region_1</td>\n",
       "      <td>NaN</td>\n",
       "      <td>21.0</td>\n",
       "      <td>2023-03-13</td>\n",
       "    </tr>\n",
       "    <tr>\n",
       "      <th>559</th>\n",
       "      <td>Product_4</td>\n",
       "      <td>Region_7</td>\n",
       "      <td>9.33</td>\n",
       "      <td>22.0</td>\n",
       "      <td>2023-07-14</td>\n",
       "    </tr>\n",
       "    <tr>\n",
       "      <th>712</th>\n",
       "      <td>Product_12</td>\n",
       "      <td>Region_1</td>\n",
       "      <td>127.89</td>\n",
       "      <td>21.0</td>\n",
       "      <td>2023-12-14</td>\n",
       "    </tr>\n",
       "  </tbody>\n",
       "</table>\n",
       "</div>"
      ],
      "text/plain": [
       "        Product    Region   Price  Units Sold   Sale Date\n",
       "436  Product_18  Region_1     NaN        21.0  2023-03-13\n",
       "559   Product_4  Region_7    9.33        22.0  2023-07-14\n",
       "712  Product_12  Region_1  127.89        21.0  2023-12-14"
      ]
     },
     "execution_count": 7,
     "metadata": {},
     "output_type": "execute_result"
    }
   ],
   "source": [
    "df[df['Units Sold']>20.0]"
   ]
  },
  {
   "cell_type": "code",
   "execution_count": 8,
   "metadata": {},
   "outputs": [],
   "source": [
    "df_noout = df.set_index(\"Units Sold\").drop(22.0)"
   ]
  },
  {
   "cell_type": "code",
   "execution_count": 9,
   "metadata": {},
   "outputs": [
    {
     "data": {
      "text/plain": [
       "<Axes: xlabel='Units Sold', ylabel='Count'>"
      ]
     },
     "execution_count": 9,
     "metadata": {},
     "output_type": "execute_result"
    },
    {
     "data": {
      "image/png": "[encoded data removed]",
      "text/plain": [
       "<Figure size 640x480 with 1 Axes>"
      ]
     },
     "metadata": {},
     "output_type": "display_data"
    }
   ],
   "source": [
    "sns.histplot(df_noout.reset_index()['Units Sold'])"
   ]
  },
  {
   "cell_type": "code",
   "execution_count": 10,
   "metadata": {},
   "outputs": [
    {
     "data": {
      "text/plain": [
       "<Axes: xlabel='Product', ylabel='Price'>"
      ]
     },
     "execution_count": 10,
     "metadata": {},
     "output_type": "execute_result"
    },
    {
     "data": {
      "image/png": "[encoded data removed]",
      "text/plain": [
       "<Figure size 640x480 with 1 Axes>"
      ]
     },
     "metadata": {},
     "output_type": "display_data"
    }
   ],
   "source": [
    "sns.boxplot(data= df_noout, x='Product',y='Price')"
   ]
  },
  {
   "cell_type": "code",
   "execution_count": 11,
   "metadata": {},
   "outputs": [
    {
     "data": {
      "text/html": [
       "<div>\n",
       "<style scoped>\n",
       "    .dataframe tbody tr th:only-of-type {\n",
       "        vertical-align: middle;\n",
       "    }\n",
       "\n",
       "    .dataframe tbody tr th {\n",
       "        vertical-align: top;\n",
       "    }\n",
       "\n",
       "    .dataframe thead th {\n",
       "        text-align: right;\n",
       "    }\n",
       "</style>\n",
       "<table border=\"1\" class=\"dataframe\">\n",
       "  <thead>\n",
       "    <tr style=\"text-align: right;\">\n",
       "      <th></th>\n",
       "      <th>Product</th>\n",
       "      <th>Region</th>\n",
       "      <th>Price</th>\n",
       "      <th>Units Sold</th>\n",
       "      <th>Sale Date</th>\n",
       "    </tr>\n",
       "  </thead>\n",
       "  <tbody>\n",
       "    <tr>\n",
       "      <th>269</th>\n",
       "      <td>Product_49</td>\n",
       "      <td>Region_8</td>\n",
       "      <td>1296.0</td>\n",
       "      <td>14.0</td>\n",
       "      <td>2022-09-27</td>\n",
       "    </tr>\n",
       "    <tr>\n",
       "      <th>407</th>\n",
       "      <td>Product_27</td>\n",
       "      <td>Region_7</td>\n",
       "      <td>1793.9</td>\n",
       "      <td>9.0</td>\n",
       "      <td>2023-02-12</td>\n",
       "    </tr>\n",
       "    <tr>\n",
       "      <th>421</th>\n",
       "      <td>Product_34</td>\n",
       "      <td>Region_2</td>\n",
       "      <td>2636.9</td>\n",
       "      <td>14.0</td>\n",
       "      <td>2023-02-26</td>\n",
       "    </tr>\n",
       "    <tr>\n",
       "      <th>1026</th>\n",
       "      <td>NaN</td>\n",
       "      <td>Region_5</td>\n",
       "      <td>2544.6</td>\n",
       "      <td>15.0</td>\n",
       "      <td>2023-02-22</td>\n",
       "    </tr>\n",
       "  </tbody>\n",
       "</table>\n",
       "</div>"
      ],
      "text/plain": [
       "         Product    Region   Price  Units Sold   Sale Date\n",
       "269   Product_49  Region_8  1296.0        14.0  2022-09-27\n",
       "407   Product_27  Region_7  1793.9         9.0  2023-02-12\n",
       "421   Product_34  Region_2  2636.9        14.0  2023-02-26\n",
       "1026         NaN  Region_5  2544.6        15.0  2023-02-22"
      ]
     },
     "execution_count": 11,
     "metadata": {},
     "output_type": "execute_result"
    }
   ],
   "source": [
    "df[df['Price']>1000]"
   ]
  },
  {
   "cell_type": "code",
   "execution_count": 12,
   "metadata": {},
   "outputs": [],
   "source": [
    "df_noout=df.set_index('Price').drop([1296.0]).drop([1793.9]).drop([2544.6]).drop([2636.9])"
   ]
  },
  {
   "cell_type": "code",
   "execution_count": 13,
   "metadata": {},
   "outputs": [
    {
     "data": {
      "text/plain": [
       "<Axes: xlabel='Product', ylabel='Price'>"
      ]
     },
     "execution_count": 13,
     "metadata": {},
     "output_type": "execute_result"
    },
    {
     "data": {
      "image/png": "[encoded data removed]",
      "text/plain": [
       "<Figure size 640x480 with 1 Axes>"
      ]
     },
     "metadata": {},
     "output_type": "display_data"
    }
   ],
   "source": [
    "sns.boxplot(data= df_noout.reset_index(), x='Product',y='Price', showmeans=True)"
   ]
  },
  {
   "cell_type": "code",
   "execution_count": 14,
   "metadata": {},
   "outputs": [],
   "source": [
    "df_noout.reset_index(inplace=True)"
   ]
  },
  {
   "cell_type": "code",
   "execution_count": 15,
   "metadata": {},
   "outputs": [],
   "source": [
    "df_noout.drop_duplicates(inplace=True)"
   ]
  },
  {
   "cell_type": "code",
   "execution_count": 16,
   "metadata": {},
   "outputs": [
    {
     "name": "stdout",
     "output_type": "stream",
     "text": [
      "<class 'pandas.core.frame.DataFrame'>\n",
      "Index: 997 entries, 0 to 996\n",
      "Data columns (total 5 columns):\n",
      " #   Column      Non-Null Count  Dtype  \n",
      "---  ------      --------------  -----  \n",
      " 0   Price       897 non-null    float64\n",
      " 1   Product     897 non-null    object \n",
      " 2   Region      897 non-null    object \n",
      " 3   Units Sold  897 non-null    float64\n",
      " 4   Sale Date   997 non-null    object \n",
      "dtypes: float64(2), object(3)\n",
      "memory usage: 46.7+ KB\n"
     ]
    }
   ],
   "source": [
    "df_noout.info()"
   ]
  },
  {
   "cell_type": "code",
   "execution_count": 17,
   "metadata": {},
   "outputs": [
    {
     "data": {
      "text/plain": [
       "Region\n",
       "Region_1     74.34\n",
       "Region_10    67.90\n",
       "Region_2     66.96\n",
       "Region_3     58.72\n",
       "Region_4     48.33\n",
       "Region_5     76.14\n",
       "Region_6     57.13\n",
       "Region_7     51.20\n",
       "Region_8     75.88\n",
       "Region_9     66.53\n",
       "Name: Price, dtype: float64"
      ]
     },
     "execution_count": 17,
     "metadata": {},
     "output_type": "execute_result"
    }
   ],
   "source": [
    "df_noout.groupby('Region')['Price'].median()"
   ]
  },
  {
   "cell_type": "code",
   "execution_count": 18,
   "metadata": {},
   "outputs": [
    {
     "data": {
      "text/plain": [
       "Region\n",
       "Region_1     10.0\n",
       "Region_10    10.0\n",
       "Region_2     10.0\n",
       "Region_3     10.0\n",
       "Region_4     10.0\n",
       "Region_5     10.0\n",
       "Region_6     10.0\n",
       "Region_7     11.0\n",
       "Region_8     11.0\n",
       "Region_9     10.0\n",
       "Name: Units Sold, dtype: float64"
      ]
     },
     "execution_count": 18,
     "metadata": {},
     "output_type": "execute_result"
    }
   ],
   "source": [
    "df_noout.groupby('Region')['Units Sold'].median()"
   ]
  },
  {
   "cell_type": "code",
   "execution_count": 19,
   "metadata": {},
   "outputs": [],
   "source": [
    "df_noout['Price'] = df_noout['Price'].fillna(df_noout.groupby('Product')['Price'].transform('median'))"
   ]
  },
  {
   "cell_type": "code",
   "execution_count": 20,
   "metadata": {},
   "outputs": [],
   "source": [
    "df_noout['Product'] = df_noout['Product'].fillna('Unknown')"
   ]
  },
  {
   "cell_type": "code",
   "execution_count": 21,
   "metadata": {},
   "outputs": [],
   "source": [
    "df_noout['Region'] = df_noout['Region'].fillna('Unknown')"
   ]
  },
  {
   "cell_type": "code",
   "execution_count": 22,
   "metadata": {},
   "outputs": [],
   "source": [
    "df_noout['Units Sold'] = df_noout['Units Sold'].fillna(df_noout.groupby('Product')['Units Sold'].transform('median'))"
   ]
  },
  {
   "cell_type": "code",
   "execution_count": 23,
   "metadata": {},
   "outputs": [],
   "source": [
    "df_noout.dropna(subset='Price',inplace=True)"
   ]
  },
  {
   "cell_type": "code",
   "execution_count": 24,
   "metadata": {},
   "outputs": [
    {
     "name": "stdout",
     "output_type": "stream",
     "text": [
      "<class 'pandas.core.frame.DataFrame'>\n",
      "Index: 986 entries, 0 to 996\n",
      "Data columns (total 5 columns):\n",
      " #   Column      Non-Null Count  Dtype  \n",
      "---  ------      --------------  -----  \n",
      " 0   Price       986 non-null    float64\n",
      " 1   Product     986 non-null    object \n",
      " 2   Region      986 non-null    object \n",
      " 3   Units Sold  986 non-null    float64\n",
      " 4   Sale Date   986 non-null    object \n",
      "dtypes: float64(2), object(3)\n",
      "memory usage: 46.2+ KB\n"
     ]
    }
   ],
   "source": [
    "df_noout.info()"
   ]
  },
  {
   "cell_type": "code",
   "execution_count": 25,
   "metadata": {},
   "outputs": [
    {
     "data": {
      "text/html": [
       "<div>\n",
       "<style scoped>\n",
       "    .dataframe tbody tr th:only-of-type {\n",
       "        vertical-align: middle;\n",
       "    }\n",
       "\n",
       "    .dataframe tbody tr th {\n",
       "        vertical-align: top;\n",
       "    }\n",
       "\n",
       "    .dataframe thead th {\n",
       "        text-align: right;\n",
       "    }\n",
       "</style>\n",
       "<table border=\"1\" class=\"dataframe\">\n",
       "  <thead>\n",
       "    <tr style=\"text-align: right;\">\n",
       "      <th></th>\n",
       "      <th>Price</th>\n",
       "      <th>Product</th>\n",
       "      <th>Region</th>\n",
       "      <th>Units Sold</th>\n",
       "      <th>Sale Date</th>\n",
       "    </tr>\n",
       "  </thead>\n",
       "  <tbody>\n",
       "    <tr>\n",
       "      <th>0</th>\n",
       "      <td>72.870</td>\n",
       "      <td>Unknown</td>\n",
       "      <td>Region_1</td>\n",
       "      <td>10.0</td>\n",
       "      <td>2022-01-01</td>\n",
       "    </tr>\n",
       "    <tr>\n",
       "      <th>1</th>\n",
       "      <td>46.190</td>\n",
       "      <td>Product_40</td>\n",
       "      <td>Region_2</td>\n",
       "      <td>10.0</td>\n",
       "      <td>2022-01-02</td>\n",
       "    </tr>\n",
       "    <tr>\n",
       "      <th>2</th>\n",
       "      <td>77.935</td>\n",
       "      <td>Product_1</td>\n",
       "      <td>Region_5</td>\n",
       "      <td>4.0</td>\n",
       "      <td>2022-01-03</td>\n",
       "    </tr>\n",
       "    <tr>\n",
       "      <th>3</th>\n",
       "      <td>143.470</td>\n",
       "      <td>Product_6</td>\n",
       "      <td>Region_8</td>\n",
       "      <td>8.0</td>\n",
       "      <td>2022-01-04</td>\n",
       "    </tr>\n",
       "    <tr>\n",
       "      <th>4</th>\n",
       "      <td>122.540</td>\n",
       "      <td>Product_44</td>\n",
       "      <td>Region_4</td>\n",
       "      <td>10.0</td>\n",
       "      <td>2022-01-05</td>\n",
       "    </tr>\n",
       "    <tr>\n",
       "      <th>...</th>\n",
       "      <td>...</td>\n",
       "      <td>...</td>\n",
       "      <td>...</td>\n",
       "      <td>...</td>\n",
       "      <td>...</td>\n",
       "    </tr>\n",
       "    <tr>\n",
       "      <th>992</th>\n",
       "      <td>13.160</td>\n",
       "      <td>Product_41</td>\n",
       "      <td>Region_5</td>\n",
       "      <td>7.0</td>\n",
       "      <td>2024-09-22</td>\n",
       "    </tr>\n",
       "    <tr>\n",
       "      <th>993</th>\n",
       "      <td>70.220</td>\n",
       "      <td>Product_34</td>\n",
       "      <td>Region_8</td>\n",
       "      <td>15.0</td>\n",
       "      <td>2024-09-23</td>\n",
       "    </tr>\n",
       "    <tr>\n",
       "      <th>994</th>\n",
       "      <td>42.790</td>\n",
       "      <td>Product_3</td>\n",
       "      <td>Region_9</td>\n",
       "      <td>7.0</td>\n",
       "      <td>2024-09-24</td>\n",
       "    </tr>\n",
       "    <tr>\n",
       "      <th>995</th>\n",
       "      <td>44.680</td>\n",
       "      <td>Product_38</td>\n",
       "      <td>Region_7</td>\n",
       "      <td>16.0</td>\n",
       "      <td>2024-09-25</td>\n",
       "    </tr>\n",
       "    <tr>\n",
       "      <th>996</th>\n",
       "      <td>10.800</td>\n",
       "      <td>Unknown</td>\n",
       "      <td>Region_7</td>\n",
       "      <td>8.0</td>\n",
       "      <td>2024-09-26</td>\n",
       "    </tr>\n",
       "  </tbody>\n",
       "</table>\n",
       "<p>986 rows × 5 columns</p>\n",
       "</div>"
      ],
      "text/plain": [
       "       Price     Product    Region  Units Sold   Sale Date\n",
       "0     72.870     Unknown  Region_1        10.0  2022-01-01\n",
       "1     46.190  Product_40  Region_2        10.0  2022-01-02\n",
       "2     77.935   Product_1  Region_5         4.0  2022-01-03\n",
       "3    143.470   Product_6  Region_8         8.0  2022-01-04\n",
       "4    122.540  Product_44  Region_4        10.0  2022-01-05\n",
       "..       ...         ...       ...         ...         ...\n",
       "992   13.160  Product_41  Region_5         7.0  2024-09-22\n",
       "993   70.220  Product_34  Region_8        15.0  2024-09-23\n",
       "994   42.790   Product_3  Region_9         7.0  2024-09-24\n",
       "995   44.680  Product_38  Region_7        16.0  2024-09-25\n",
       "996   10.800     Unknown  Region_7         8.0  2024-09-26\n",
       "\n",
       "[986 rows x 5 columns]"
      ]
     },
     "execution_count": 25,
     "metadata": {},
     "output_type": "execute_result"
    }
   ],
   "source": [
    "df_noout"
   ]
  },
  {
   "cell_type": "code",
   "execution_count": 26,
   "metadata": {},
   "outputs": [
    {
     "data": {
      "text/plain": [
       "Region\n",
       "Region_1     10.305882\n",
       "Region_10     9.755814\n",
       "Region_2     10.302198\n",
       "Region_3      9.893750\n",
       "Region_4     10.215909\n",
       "Region_5      9.841346\n",
       "Region_6     10.402439\n",
       "Region_7     10.750000\n",
       "Region_8     10.472826\n",
       "Region_9      9.947368\n",
       "Unknown       9.833333\n",
       "Name: Units Sold, dtype: float64"
      ]
     },
     "execution_count": 26,
     "metadata": {},
     "output_type": "execute_result"
    }
   ],
   "source": [
    "df_noout.groupby('Region')['Units Sold'].mean()"
   ]
  },
  {
   "cell_type": "code",
   "execution_count": 27,
   "metadata": {},
   "outputs": [
    {
     "data": {
      "text/plain": [
       "Region\n",
       "Region_1     10.0\n",
       "Region_10    10.0\n",
       "Region_2     10.0\n",
       "Region_3     10.0\n",
       "Region_4     10.0\n",
       "Region_5     10.0\n",
       "Region_6     10.0\n",
       "Region_7     10.0\n",
       "Region_8     10.5\n",
       "Region_9     10.0\n",
       "Unknown      10.0\n",
       "Name: Units Sold, dtype: float64"
      ]
     },
     "execution_count": 27,
     "metadata": {},
     "output_type": "execute_result"
    }
   ],
   "source": [
    "df_noout.groupby('Region')['Units Sold'].median()"
   ]
  },
  {
   "cell_type": "code",
   "execution_count": 28,
   "metadata": {},
   "outputs": [
    {
     "data": {
      "text/plain": [
       "Product\n",
       "Product_1     11.0\n",
       "Product_10    12.0\n",
       "Product_11    11.5\n",
       "Product_12    10.0\n",
       "Product_13    10.0\n",
       "Product_14    11.0\n",
       "Product_15    11.0\n",
       "Product_16    11.5\n",
       "Product_17    10.0\n",
       "Product_18    12.5\n",
       "Product_19    11.0\n",
       "Product_2     10.0\n",
       "Product_20     9.0\n",
       "Product_21    10.0\n",
       "Product_22    11.0\n",
       "Product_23    10.0\n",
       "Product_24    11.0\n",
       "Product_25     9.0\n",
       "Product_26    10.0\n",
       "Product_27     8.0\n",
       "Product_28    11.0\n",
       "Product_29    11.0\n",
       "Product_3     10.0\n",
       "Product_30     9.0\n",
       "Product_31     8.5\n",
       "Product_32    12.0\n",
       "Product_33     9.0\n",
       "Product_34     9.0\n",
       "Product_35    10.5\n",
       "Product_36     9.5\n",
       "Product_37    10.0\n",
       "Product_38    10.0\n",
       "Product_39     8.0\n",
       "Product_4      9.0\n",
       "Product_40    11.0\n",
       "Product_41    11.0\n",
       "Product_42    11.0\n",
       "Product_43     9.0\n",
       "Product_44    10.0\n",
       "Product_45    10.5\n",
       "Product_46     9.0\n",
       "Product_47    10.0\n",
       "Product_48    10.0\n",
       "Product_49    10.0\n",
       "Product_5     10.0\n",
       "Product_50     8.0\n",
       "Product_6      9.5\n",
       "Product_7     10.0\n",
       "Product_8     10.0\n",
       "Product_9     10.0\n",
       "Unknown       10.0\n",
       "Name: Units Sold, dtype: float64"
      ]
     },
     "execution_count": 28,
     "metadata": {},
     "output_type": "execute_result"
    }
   ],
   "source": [
    "df_noout.groupby('Product')['Units Sold'].median()"
   ]
  },
  {
   "cell_type": "code",
   "execution_count": 29,
   "metadata": {},
   "outputs": [
    {
     "data": {
      "text/html": [
       "<div>\n",
       "<style scoped>\n",
       "    .dataframe tbody tr th:only-of-type {\n",
       "        vertical-align: middle;\n",
       "    }\n",
       "\n",
       "    .dataframe tbody tr th {\n",
       "        vertical-align: top;\n",
       "    }\n",
       "\n",
       "    .dataframe thead th {\n",
       "        text-align: right;\n",
       "    }\n",
       "</style>\n",
       "<table border=\"1\" class=\"dataframe\">\n",
       "  <thead>\n",
       "    <tr style=\"text-align: right;\">\n",
       "      <th></th>\n",
       "      <th>Price</th>\n",
       "      <th>Product</th>\n",
       "      <th>Region</th>\n",
       "      <th>Units Sold</th>\n",
       "      <th>Sale Date</th>\n",
       "    </tr>\n",
       "  </thead>\n",
       "  <tbody>\n",
       "    <tr>\n",
       "      <th>count</th>\n",
       "      <td>986.000000</td>\n",
       "      <td>986</td>\n",
       "      <td>986</td>\n",
       "      <td>986.000000</td>\n",
       "      <td>986</td>\n",
       "    </tr>\n",
       "    <tr>\n",
       "      <th>unique</th>\n",
       "      <td>NaN</td>\n",
       "      <td>51</td>\n",
       "      <td>11</td>\n",
       "      <td>NaN</td>\n",
       "      <td>986</td>\n",
       "    </tr>\n",
       "    <tr>\n",
       "      <th>top</th>\n",
       "      <td>NaN</td>\n",
       "      <td>Unknown</td>\n",
       "      <td>Region_5</td>\n",
       "      <td>NaN</td>\n",
       "      <td>2022-01-01</td>\n",
       "    </tr>\n",
       "    <tr>\n",
       "      <th>freq</th>\n",
       "      <td>NaN</td>\n",
       "      <td>89</td>\n",
       "      <td>104</td>\n",
       "      <td>NaN</td>\n",
       "      <td>1</td>\n",
       "    </tr>\n",
       "    <tr>\n",
       "      <th>mean</th>\n",
       "      <td>97.154270</td>\n",
       "      <td>NaN</td>\n",
       "      <td>NaN</td>\n",
       "      <td>10.146552</td>\n",
       "      <td>NaN</td>\n",
       "    </tr>\n",
       "    <tr>\n",
       "      <th>std</th>\n",
       "      <td>98.132852</td>\n",
       "      <td>NaN</td>\n",
       "      <td>NaN</td>\n",
       "      <td>3.120844</td>\n",
       "      <td>NaN</td>\n",
       "    </tr>\n",
       "    <tr>\n",
       "      <th>min</th>\n",
       "      <td>0.190000</td>\n",
       "      <td>NaN</td>\n",
       "      <td>NaN</td>\n",
       "      <td>2.000000</td>\n",
       "      <td>NaN</td>\n",
       "    </tr>\n",
       "    <tr>\n",
       "      <th>25%</th>\n",
       "      <td>30.085000</td>\n",
       "      <td>NaN</td>\n",
       "      <td>NaN</td>\n",
       "      <td>8.000000</td>\n",
       "      <td>NaN</td>\n",
       "    </tr>\n",
       "    <tr>\n",
       "      <th>50%</th>\n",
       "      <td>64.225000</td>\n",
       "      <td>NaN</td>\n",
       "      <td>NaN</td>\n",
       "      <td>10.000000</td>\n",
       "      <td>NaN</td>\n",
       "    </tr>\n",
       "    <tr>\n",
       "      <th>75%</th>\n",
       "      <td>128.782500</td>\n",
       "      <td>NaN</td>\n",
       "      <td>NaN</td>\n",
       "      <td>12.000000</td>\n",
       "      <td>NaN</td>\n",
       "    </tr>\n",
       "    <tr>\n",
       "      <th>max</th>\n",
       "      <td>650.500000</td>\n",
       "      <td>NaN</td>\n",
       "      <td>NaN</td>\n",
       "      <td>22.000000</td>\n",
       "      <td>NaN</td>\n",
       "    </tr>\n",
       "  </tbody>\n",
       "</table>\n",
       "</div>"
      ],
      "text/plain": [
       "             Price  Product    Region  Units Sold   Sale Date\n",
       "count   986.000000      986       986  986.000000         986\n",
       "unique         NaN       51        11         NaN         986\n",
       "top            NaN  Unknown  Region_5         NaN  2022-01-01\n",
       "freq           NaN       89       104         NaN           1\n",
       "mean     97.154270      NaN       NaN   10.146552         NaN\n",
       "std      98.132852      NaN       NaN    3.120844         NaN\n",
       "min       0.190000      NaN       NaN    2.000000         NaN\n",
       "25%      30.085000      NaN       NaN    8.000000         NaN\n",
       "50%      64.225000      NaN       NaN   10.000000         NaN\n",
       "75%     128.782500      NaN       NaN   12.000000         NaN\n",
       "max     650.500000      NaN       NaN   22.000000         NaN"
      ]
     },
     "execution_count": 29,
     "metadata": {},
     "output_type": "execute_result"
    }
   ],
   "source": [
    "df_noout.describe(include='all')"
   ]
  },
  {
   "cell_type": "code",
   "execution_count": 30,
   "metadata": {},
   "outputs": [],
   "source": [
    "#1) What conclusions can you draw about sales performance of various products and regions?\n",
    "\n",
    "#-The product 18 has the highest sales across all the regions.\n",
    "#-The product 27,39,50 have the lowest sales across all the regions.\n",
    "#-The Region 5 has the highest sale prices. However, 8 and 7 regions have the highest units sold compared to other regions.\n",
    "#-The Region 10 has the lowest units sold.\n",
    "#-The mean price for both region and product is higher than the median.\n",
    "\n",
    "#2) What recommendations do you have for the business?\n",
    "\n",
    "#-Promote and expand sales of product 18 as it has consistently performed well in all regions.\n",
    "#-Analyze the reasons behind the low sales of product 27,39,50 and consider strategies to improve their performance or discontinue it.\n",
    "#-Study the factors contributing to high sales in Region 8,7 and replicate those strategies elsewhere.\n",
    "#-In Region 10, improve sales and performance by implementing targeted marketing and sales initiatives.\n",
    "#-By examining the data, it is evident that the mean price for both region and product is higher than the median. \n",
    "#This indicates that only a small portion of customers tend to spend a significant amount of money on the product.\n",
    "#However, the majority of customers tend to spend around the median value. These findings suggest that the company can consider offering targeted promotions to those customers to make more purchases.\n",
    "\n",
    "#3) Describe your data cleaning approach. How and why did you decide on which cleaning techniques to use?\n",
    "\n",
    "#-In the data cleaning process, for missing data in \"Price\", using .fillna to fillin with the 'median' price by product. \n",
    "# For missing data in \"Units Sold\", using .fillna to fillin with the 'median' units sold by product.\n",
    "# It was chosen this way to preserve data trends without introducing significant bias.\n",
    "#-For missing data in \"Region\" and \"Product\", I filled those missing datas by using \"Unknown\"since missing data from those two columns provises less information.\n",
    "#-To identify outliers, I utilized \"histplot\" and \"boxplot\" visualizations. \n",
    "# For one of the unit price counts that had less impact on our analysis, I removed the outliers using the \"drop\" function. \n",
    "# Similarly, I also excluded outliers from the product prices that were significantly higher than the average. These outliers may have minimal impact on our analysis, thus they were removed.\n",
    "# The reason for using \"histplot\" and \"boxplot\" is that they provide effective visualizations for identifying outliers.\n",
    "#-For duplicates, I used drop.duplicate to drop them.\n",
    "\n",
    "\n"
   ]
  }
 ],
 "metadata": {
  "kernelspec": {
   "display_name": "Python 3",
   "language": "python",
   "name": "python3"
  },
  "language_info": {
   "codemirror_mode": {
    "name": "ipython",
    "version": 3
   },
   "file_extension": ".py",
   "mimetype": "text/x-python",
   "name": "python",
   "nbconvert_exporter": "python",
   "pygments_lexer": "ipython3",
   "version": "3.11.1"
  },
  "orig_nbformat": 4
 },
 "nbformat": 4,
 "nbformat_minor": 2
}
