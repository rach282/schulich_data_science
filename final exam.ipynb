{
 "cells": [
  {
   "cell_type": "code",
   "execution_count": 243,
   "metadata": {},
   "outputs": [],
   "source": [
    "import pandas as pd\n",
    "import numpy as np\n",
    "from sklearn.preprocessing import OneHotEncoder, StandardScaler\n",
    "from sklearn.model_selection import train_test_split, cross_val_score, RandomizedSearchCV\n",
    "from sklearn.naive_bayes import GaussianNB\n",
    "from sklearn.neighbors import KNeighborsClassifier\n",
    "from sklearn.linear_model import LogisticRegression\n",
    "from sklearn.metrics import f1_score, recall_score, precision_recall_curve, precision_score, roc_auc_score, roc_curve, accuracy_score\n",
    "import seaborn as sns\n",
    "import matplotlib.pyplot as plt\n",
    "from sklearn.svm import SVC\n",
    "from sklearn.tree import DecisionTreeClassifier\n",
    "from sklearn.tree import plot_tree"
   ]
  },
  {
   "cell_type": "code",
   "execution_count": 244,
   "metadata": {},
   "outputs": [],
   "source": [
    "df = pd.read_csv('/Users/rachyc/Downloads/churn_data.csv')"
   ]
  },
  {
   "cell_type": "code",
   "execution_count": 245,
   "metadata": {},
   "outputs": [
    {
     "data": {
      "text/html": [
       "<div>\n",
       "<style scoped>\n",
       "    .dataframe tbody tr th:only-of-type {\n",
       "        vertical-align: middle;\n",
       "    }\n",
       "\n",
       "    .dataframe tbody tr th {\n",
       "        vertical-align: top;\n",
       "    }\n",
       "\n",
       "    .dataframe thead th {\n",
       "        text-align: right;\n",
       "    }\n",
       "</style>\n",
       "<table border=\"1\" class=\"dataframe\">\n",
       "  <thead>\n",
       "    <tr style=\"text-align: right;\">\n",
       "      <th></th>\n",
       "      <th>Unnamed: 0</th>\n",
       "      <th>CustomerID</th>\n",
       "      <th>Age</th>\n",
       "      <th>Location</th>\n",
       "      <th>Device</th>\n",
       "      <th>Month_1_Spend</th>\n",
       "      <th>Month_1_Items</th>\n",
       "      <th>Month_1_Support_Calls</th>\n",
       "      <th>Month_2_Spend</th>\n",
       "      <th>Month_2_Items</th>\n",
       "      <th>...</th>\n",
       "      <th>Month_10_Spend</th>\n",
       "      <th>Month_10_Items</th>\n",
       "      <th>Month_10_Support_Calls</th>\n",
       "      <th>Month_11_Spend</th>\n",
       "      <th>Month_11_Items</th>\n",
       "      <th>Month_11_Support_Calls</th>\n",
       "      <th>Month_12_Spend</th>\n",
       "      <th>Month_12_Items</th>\n",
       "      <th>Month_12_Support_Calls</th>\n",
       "      <th>Churn</th>\n",
       "    </tr>\n",
       "  </thead>\n",
       "  <tbody>\n",
       "    <tr>\n",
       "      <th>0</th>\n",
       "      <td>0</td>\n",
       "      <td>1</td>\n",
       "      <td>46</td>\n",
       "      <td>US</td>\n",
       "      <td>iOS</td>\n",
       "      <td>756.005761</td>\n",
       "      <td>39</td>\n",
       "      <td>2</td>\n",
       "      <td>582.023075</td>\n",
       "      <td>92</td>\n",
       "      <td>...</td>\n",
       "      <td>280.397827</td>\n",
       "      <td>60</td>\n",
       "      <td>0</td>\n",
       "      <td>700.181510</td>\n",
       "      <td>66</td>\n",
       "      <td>3</td>\n",
       "      <td>382.719682</td>\n",
       "      <td>59</td>\n",
       "      <td>0</td>\n",
       "      <td>1</td>\n",
       "    </tr>\n",
       "    <tr>\n",
       "      <th>1</th>\n",
       "      <td>1</td>\n",
       "      <td>2</td>\n",
       "      <td>52</td>\n",
       "      <td>US</td>\n",
       "      <td>iOS</td>\n",
       "      <td>594.838157</td>\n",
       "      <td>59</td>\n",
       "      <td>0</td>\n",
       "      <td>251.269898</td>\n",
       "      <td>33</td>\n",
       "      <td>...</td>\n",
       "      <td>863.000645</td>\n",
       "      <td>89</td>\n",
       "      <td>1</td>\n",
       "      <td>571.331352</td>\n",
       "      <td>28</td>\n",
       "      <td>3</td>\n",
       "      <td>570.203975</td>\n",
       "      <td>89</td>\n",
       "      <td>0</td>\n",
       "      <td>1</td>\n",
       "    </tr>\n",
       "    <tr>\n",
       "      <th>2</th>\n",
       "      <td>2</td>\n",
       "      <td>3</td>\n",
       "      <td>43</td>\n",
       "      <td>Canada</td>\n",
       "      <td>Android</td>\n",
       "      <td>453.217405</td>\n",
       "      <td>21</td>\n",
       "      <td>3</td>\n",
       "      <td>124.178946</td>\n",
       "      <td>92</td>\n",
       "      <td>...</td>\n",
       "      <td>858.545990</td>\n",
       "      <td>60</td>\n",
       "      <td>5</td>\n",
       "      <td>198.222684</td>\n",
       "      <td>38</td>\n",
       "      <td>1</td>\n",
       "      <td>187.475764</td>\n",
       "      <td>79</td>\n",
       "      <td>5</td>\n",
       "      <td>1</td>\n",
       "    </tr>\n",
       "    <tr>\n",
       "      <th>3</th>\n",
       "      <td>3</td>\n",
       "      <td>4</td>\n",
       "      <td>41</td>\n",
       "      <td>US</td>\n",
       "      <td>iOS</td>\n",
       "      <td>621.453170</td>\n",
       "      <td>95</td>\n",
       "      <td>1</td>\n",
       "      <td>134.362559</td>\n",
       "      <td>46</td>\n",
       "      <td>...</td>\n",
       "      <td>404.590146</td>\n",
       "      <td>59</td>\n",
       "      <td>3</td>\n",
       "      <td>565.395592</td>\n",
       "      <td>78</td>\n",
       "      <td>1</td>\n",
       "      <td>281.415092</td>\n",
       "      <td>63</td>\n",
       "      <td>4</td>\n",
       "      <td>1</td>\n",
       "    </tr>\n",
       "    <tr>\n",
       "      <th>4</th>\n",
       "      <td>4</td>\n",
       "      <td>5</td>\n",
       "      <td>41</td>\n",
       "      <td>US</td>\n",
       "      <td>iOS</td>\n",
       "      <td>660.735119</td>\n",
       "      <td>48</td>\n",
       "      <td>5</td>\n",
       "      <td>713.265527</td>\n",
       "      <td>54</td>\n",
       "      <td>...</td>\n",
       "      <td>178.143438</td>\n",
       "      <td>85</td>\n",
       "      <td>1</td>\n",
       "      <td>574.382094</td>\n",
       "      <td>34</td>\n",
       "      <td>2</td>\n",
       "      <td>544.981985</td>\n",
       "      <td>28</td>\n",
       "      <td>2</td>\n",
       "      <td>1</td>\n",
       "    </tr>\n",
       "  </tbody>\n",
       "</table>\n",
       "<p>5 rows × 42 columns</p>\n",
       "</div>"
      ],
      "text/plain": [
       "   Unnamed: 0  CustomerID  Age Location   Device  Month_1_Spend   \n",
       "0           0           1   46       US      iOS     756.005761  \\\n",
       "1           1           2   52       US      iOS     594.838157   \n",
       "2           2           3   43   Canada  Android     453.217405   \n",
       "3           3           4   41       US      iOS     621.453170   \n",
       "4           4           5   41       US      iOS     660.735119   \n",
       "\n",
       "   Month_1_Items  Month_1_Support_Calls  Month_2_Spend  Month_2_Items  ...   \n",
       "0             39                      2     582.023075             92  ...  \\\n",
       "1             59                      0     251.269898             33  ...   \n",
       "2             21                      3     124.178946             92  ...   \n",
       "3             95                      1     134.362559             46  ...   \n",
       "4             48                      5     713.265527             54  ...   \n",
       "\n",
       "   Month_10_Spend  Month_10_Items  Month_10_Support_Calls  Month_11_Spend   \n",
       "0      280.397827              60                       0      700.181510  \\\n",
       "1      863.000645              89                       1      571.331352   \n",
       "2      858.545990              60                       5      198.222684   \n",
       "3      404.590146              59                       3      565.395592   \n",
       "4      178.143438              85                       1      574.382094   \n",
       "\n",
       "   Month_11_Items  Month_11_Support_Calls  Month_12_Spend  Month_12_Items   \n",
       "0              66                       3      382.719682              59  \\\n",
       "1              28                       3      570.203975              89   \n",
       "2              38                       1      187.475764              79   \n",
       "3              78                       1      281.415092              63   \n",
       "4              34                       2      544.981985              28   \n",
       "\n",
       "   Month_12_Support_Calls  Churn  \n",
       "0                       0      1  \n",
       "1                       0      1  \n",
       "2                       5      1  \n",
       "3                       4      1  \n",
       "4                       2      1  \n",
       "\n",
       "[5 rows x 42 columns]"
      ]
     },
     "execution_count": 245,
     "metadata": {},
     "output_type": "execute_result"
    }
   ],
   "source": [
    "df.head()"
   ]
  },
  {
   "cell_type": "code",
   "execution_count": 246,
   "metadata": {},
   "outputs": [
    {
     "name": "stdout",
     "output_type": "stream",
     "text": [
      "<class 'pandas.core.frame.DataFrame'>\n",
      "RangeIndex: 10000 entries, 0 to 9999\n",
      "Data columns (total 42 columns):\n",
      " #   Column                  Non-Null Count  Dtype  \n",
      "---  ------                  --------------  -----  \n",
      " 0   Unnamed: 0              10000 non-null  int64  \n",
      " 1   CustomerID              10000 non-null  int64  \n",
      " 2   Age                     10000 non-null  int64  \n",
      " 3   Location                10000 non-null  object \n",
      " 4   Device                  10000 non-null  object \n",
      " 5   Month_1_Spend           10000 non-null  float64\n",
      " 6   Month_1_Items           10000 non-null  int64  \n",
      " 7   Month_1_Support_Calls   10000 non-null  int64  \n",
      " 8   Month_2_Spend           10000 non-null  float64\n",
      " 9   Month_2_Items           10000 non-null  int64  \n",
      " 10  Month_2_Support_Calls   10000 non-null  int64  \n",
      " 11  Month_3_Spend           10000 non-null  float64\n",
      " 12  Month_3_Items           10000 non-null  int64  \n",
      " 13  Month_3_Support_Calls   10000 non-null  int64  \n",
      " 14  Month_4_Spend           10000 non-null  float64\n",
      " 15  Month_4_Items           10000 non-null  int64  \n",
      " 16  Month_4_Support_Calls   10000 non-null  int64  \n",
      " 17  Month_5_Spend           10000 non-null  float64\n",
      " 18  Month_5_Items           10000 non-null  int64  \n",
      " 19  Month_5_Support_Calls   10000 non-null  int64  \n",
      " 20  Month_6_Spend           10000 non-null  float64\n",
      " 21  Month_6_Items           10000 non-null  int64  \n",
      " 22  Month_6_Support_Calls   10000 non-null  int64  \n",
      " 23  Month_7_Spend           10000 non-null  float64\n",
      " 24  Month_7_Items           10000 non-null  int64  \n",
      " 25  Month_7_Support_Calls   10000 non-null  int64  \n",
      " 26  Month_8_Spend           10000 non-null  float64\n",
      " 27  Month_8_Items           10000 non-null  int64  \n",
      " 28  Month_8_Support_Calls   10000 non-null  int64  \n",
      " 29  Month_9_Spend           10000 non-null  float64\n",
      " 30  Month_9_Items           10000 non-null  int64  \n",
      " 31  Month_9_Support_Calls   10000 non-null  int64  \n",
      " 32  Month_10_Spend          10000 non-null  float64\n",
      " 33  Month_10_Items          10000 non-null  int64  \n",
      " 34  Month_10_Support_Calls  10000 non-null  int64  \n",
      " 35  Month_11_Spend          10000 non-null  float64\n",
      " 36  Month_11_Items          10000 non-null  int64  \n",
      " 37  Month_11_Support_Calls  10000 non-null  int64  \n",
      " 38  Month_12_Spend          10000 non-null  float64\n",
      " 39  Month_12_Items          10000 non-null  int64  \n",
      " 40  Month_12_Support_Calls  10000 non-null  int64  \n",
      " 41  Churn                   10000 non-null  int64  \n",
      "dtypes: float64(12), int64(28), object(2)\n",
      "memory usage: 3.2+ MB\n"
     ]
    }
   ],
   "source": [
    "df.info()"
   ]
  },
  {
   "cell_type": "code",
   "execution_count": 247,
   "metadata": {},
   "outputs": [
    {
     "data": {
      "text/html": [
       "<div>\n",
       "<style scoped>\n",
       "    .dataframe tbody tr th:only-of-type {\n",
       "        vertical-align: middle;\n",
       "    }\n",
       "\n",
       "    .dataframe tbody tr th {\n",
       "        vertical-align: top;\n",
       "    }\n",
       "\n",
       "    .dataframe thead th {\n",
       "        text-align: right;\n",
       "    }\n",
       "</style>\n",
       "<table border=\"1\" class=\"dataframe\">\n",
       "  <thead>\n",
       "    <tr style=\"text-align: right;\">\n",
       "      <th></th>\n",
       "      <th>Unnamed: 0</th>\n",
       "      <th>CustomerID</th>\n",
       "      <th>Age</th>\n",
       "      <th>Month_1_Spend</th>\n",
       "      <th>Month_1_Items</th>\n",
       "      <th>Month_1_Support_Calls</th>\n",
       "      <th>Month_2_Spend</th>\n",
       "      <th>Month_2_Items</th>\n",
       "      <th>Month_2_Support_Calls</th>\n",
       "      <th>Month_3_Spend</th>\n",
       "      <th>...</th>\n",
       "      <th>Month_10_Spend</th>\n",
       "      <th>Month_10_Items</th>\n",
       "      <th>Month_10_Support_Calls</th>\n",
       "      <th>Month_11_Spend</th>\n",
       "      <th>Month_11_Items</th>\n",
       "      <th>Month_11_Support_Calls</th>\n",
       "      <th>Month_12_Spend</th>\n",
       "      <th>Month_12_Items</th>\n",
       "      <th>Month_12_Support_Calls</th>\n",
       "      <th>Churn</th>\n",
       "    </tr>\n",
       "  </thead>\n",
       "  <tbody>\n",
       "    <tr>\n",
       "      <th>count</th>\n",
       "      <td>10000.00000</td>\n",
       "      <td>10000.00000</td>\n",
       "      <td>10000.000000</td>\n",
       "      <td>10000.000000</td>\n",
       "      <td>10000.000000</td>\n",
       "      <td>10000.000000</td>\n",
       "      <td>10000.000000</td>\n",
       "      <td>10000.000000</td>\n",
       "      <td>10000.000000</td>\n",
       "      <td>10000.000000</td>\n",
       "      <td>...</td>\n",
       "      <td>10000.000000</td>\n",
       "      <td>10000.000000</td>\n",
       "      <td>10000.000000</td>\n",
       "      <td>10000.000000</td>\n",
       "      <td>10000.000000</td>\n",
       "      <td>10000.000000</td>\n",
       "      <td>10000.000000</td>\n",
       "      <td>10000.000000</td>\n",
       "      <td>10000.000000</td>\n",
       "      <td>10000.00000</td>\n",
       "    </tr>\n",
       "    <tr>\n",
       "      <th>mean</th>\n",
       "      <td>4999.50000</td>\n",
       "      <td>5000.50000</td>\n",
       "      <td>42.698500</td>\n",
       "      <td>482.593336</td>\n",
       "      <td>64.657700</td>\n",
       "      <td>2.488800</td>\n",
       "      <td>476.297118</td>\n",
       "      <td>63.118000</td>\n",
       "      <td>2.517400</td>\n",
       "      <td>481.965314</td>\n",
       "      <td>...</td>\n",
       "      <td>473.630524</td>\n",
       "      <td>58.227900</td>\n",
       "      <td>2.487000</td>\n",
       "      <td>472.671126</td>\n",
       "      <td>56.968900</td>\n",
       "      <td>2.519500</td>\n",
       "      <td>478.629330</td>\n",
       "      <td>56.512600</td>\n",
       "      <td>2.496300</td>\n",
       "      <td>0.70000</td>\n",
       "    </tr>\n",
       "    <tr>\n",
       "      <th>std</th>\n",
       "      <td>2886.89568</td>\n",
       "      <td>2886.89568</td>\n",
       "      <td>12.495528</td>\n",
       "      <td>237.961476</td>\n",
       "      <td>29.329527</td>\n",
       "      <td>1.711306</td>\n",
       "      <td>237.491820</td>\n",
       "      <td>28.933247</td>\n",
       "      <td>1.703639</td>\n",
       "      <td>235.535388</td>\n",
       "      <td>...</td>\n",
       "      <td>235.090366</td>\n",
       "      <td>25.909251</td>\n",
       "      <td>1.721083</td>\n",
       "      <td>234.288930</td>\n",
       "      <td>25.615119</td>\n",
       "      <td>1.702266</td>\n",
       "      <td>233.135282</td>\n",
       "      <td>25.263995</td>\n",
       "      <td>1.713674</td>\n",
       "      <td>0.45828</td>\n",
       "    </tr>\n",
       "    <tr>\n",
       "      <th>min</th>\n",
       "      <td>0.00000</td>\n",
       "      <td>1.00000</td>\n",
       "      <td>20.000000</td>\n",
       "      <td>45.147050</td>\n",
       "      <td>12.000000</td>\n",
       "      <td>0.000000</td>\n",
       "      <td>46.283232</td>\n",
       "      <td>12.000000</td>\n",
       "      <td>0.000000</td>\n",
       "      <td>45.792390</td>\n",
       "      <td>...</td>\n",
       "      <td>45.784922</td>\n",
       "      <td>12.000000</td>\n",
       "      <td>0.000000</td>\n",
       "      <td>45.139863</td>\n",
       "      <td>12.000000</td>\n",
       "      <td>0.000000</td>\n",
       "      <td>45.093583</td>\n",
       "      <td>12.000000</td>\n",
       "      <td>0.000000</td>\n",
       "      <td>0.00000</td>\n",
       "    </tr>\n",
       "    <tr>\n",
       "      <th>25%</th>\n",
       "      <td>2499.75000</td>\n",
       "      <td>2500.75000</td>\n",
       "      <td>32.000000</td>\n",
       "      <td>275.978779</td>\n",
       "      <td>39.000000</td>\n",
       "      <td>1.000000</td>\n",
       "      <td>268.427326</td>\n",
       "      <td>38.000000</td>\n",
       "      <td>1.000000</td>\n",
       "      <td>283.141582</td>\n",
       "      <td>...</td>\n",
       "      <td>268.470286</td>\n",
       "      <td>36.000000</td>\n",
       "      <td>1.000000</td>\n",
       "      <td>269.432095</td>\n",
       "      <td>35.000000</td>\n",
       "      <td>1.000000</td>\n",
       "      <td>276.507055</td>\n",
       "      <td>35.000000</td>\n",
       "      <td>1.000000</td>\n",
       "      <td>0.00000</td>\n",
       "    </tr>\n",
       "    <tr>\n",
       "      <th>50%</th>\n",
       "      <td>4999.50000</td>\n",
       "      <td>5000.50000</td>\n",
       "      <td>43.000000</td>\n",
       "      <td>482.173250</td>\n",
       "      <td>65.000000</td>\n",
       "      <td>2.000000</td>\n",
       "      <td>474.442784</td>\n",
       "      <td>63.000000</td>\n",
       "      <td>3.000000</td>\n",
       "      <td>480.440066</td>\n",
       "      <td>...</td>\n",
       "      <td>472.391691</td>\n",
       "      <td>58.000000</td>\n",
       "      <td>2.000000</td>\n",
       "      <td>472.530676</td>\n",
       "      <td>57.000000</td>\n",
       "      <td>3.000000</td>\n",
       "      <td>481.872558</td>\n",
       "      <td>56.000000</td>\n",
       "      <td>3.000000</td>\n",
       "      <td>1.00000</td>\n",
       "    </tr>\n",
       "    <tr>\n",
       "      <th>75%</th>\n",
       "      <td>7499.25000</td>\n",
       "      <td>7500.25000</td>\n",
       "      <td>53.000000</td>\n",
       "      <td>688.898992</td>\n",
       "      <td>90.000000</td>\n",
       "      <td>4.000000</td>\n",
       "      <td>680.824377</td>\n",
       "      <td>88.000000</td>\n",
       "      <td>4.000000</td>\n",
       "      <td>684.508894</td>\n",
       "      <td>...</td>\n",
       "      <td>680.923305</td>\n",
       "      <td>80.000000</td>\n",
       "      <td>4.000000</td>\n",
       "      <td>673.599392</td>\n",
       "      <td>78.000000</td>\n",
       "      <td>4.000000</td>\n",
       "      <td>681.397961</td>\n",
       "      <td>77.000000</td>\n",
       "      <td>4.000000</td>\n",
       "      <td>1.00000</td>\n",
       "    </tr>\n",
       "    <tr>\n",
       "      <th>max</th>\n",
       "      <td>9999.00000</td>\n",
       "      <td>10000.00000</td>\n",
       "      <td>65.000000</td>\n",
       "      <td>889.597940</td>\n",
       "      <td>115.000000</td>\n",
       "      <td>5.000000</td>\n",
       "      <td>889.712540</td>\n",
       "      <td>113.000000</td>\n",
       "      <td>5.000000</td>\n",
       "      <td>889.756303</td>\n",
       "      <td>...</td>\n",
       "      <td>889.979951</td>\n",
       "      <td>113.000000</td>\n",
       "      <td>5.000000</td>\n",
       "      <td>889.998913</td>\n",
       "      <td>113.000000</td>\n",
       "      <td>5.000000</td>\n",
       "      <td>889.612221</td>\n",
       "      <td>113.000000</td>\n",
       "      <td>5.000000</td>\n",
       "      <td>1.00000</td>\n",
       "    </tr>\n",
       "  </tbody>\n",
       "</table>\n",
       "<p>8 rows × 40 columns</p>\n",
       "</div>"
      ],
      "text/plain": [
       "        Unnamed: 0   CustomerID           Age  Month_1_Spend  Month_1_Items   \n",
       "count  10000.00000  10000.00000  10000.000000   10000.000000   10000.000000  \\\n",
       "mean    4999.50000   5000.50000     42.698500     482.593336      64.657700   \n",
       "std     2886.89568   2886.89568     12.495528     237.961476      29.329527   \n",
       "min        0.00000      1.00000     20.000000      45.147050      12.000000   \n",
       "25%     2499.75000   2500.75000     32.000000     275.978779      39.000000   \n",
       "50%     4999.50000   5000.50000     43.000000     482.173250      65.000000   \n",
       "75%     7499.25000   7500.25000     53.000000     688.898992      90.000000   \n",
       "max     9999.00000  10000.00000     65.000000     889.597940     115.000000   \n",
       "\n",
       "       Month_1_Support_Calls  Month_2_Spend  Month_2_Items   \n",
       "count           10000.000000   10000.000000   10000.000000  \\\n",
       "mean                2.488800     476.297118      63.118000   \n",
       "std                 1.711306     237.491820      28.933247   \n",
       "min                 0.000000      46.283232      12.000000   \n",
       "25%                 1.000000     268.427326      38.000000   \n",
       "50%                 2.000000     474.442784      63.000000   \n",
       "75%                 4.000000     680.824377      88.000000   \n",
       "max                 5.000000     889.712540     113.000000   \n",
       "\n",
       "       Month_2_Support_Calls  Month_3_Spend  ...  Month_10_Spend   \n",
       "count           10000.000000   10000.000000  ...    10000.000000  \\\n",
       "mean                2.517400     481.965314  ...      473.630524   \n",
       "std                 1.703639     235.535388  ...      235.090366   \n",
       "min                 0.000000      45.792390  ...       45.784922   \n",
       "25%                 1.000000     283.141582  ...      268.470286   \n",
       "50%                 3.000000     480.440066  ...      472.391691   \n",
       "75%                 4.000000     684.508894  ...      680.923305   \n",
       "max                 5.000000     889.756303  ...      889.979951   \n",
       "\n",
       "       Month_10_Items  Month_10_Support_Calls  Month_11_Spend  Month_11_Items   \n",
       "count    10000.000000            10000.000000    10000.000000    10000.000000  \\\n",
       "mean        58.227900                2.487000      472.671126       56.968900   \n",
       "std         25.909251                1.721083      234.288930       25.615119   \n",
       "min         12.000000                0.000000       45.139863       12.000000   \n",
       "25%         36.000000                1.000000      269.432095       35.000000   \n",
       "50%         58.000000                2.000000      472.530676       57.000000   \n",
       "75%         80.000000                4.000000      673.599392       78.000000   \n",
       "max        113.000000                5.000000      889.998913      113.000000   \n",
       "\n",
       "       Month_11_Support_Calls  Month_12_Spend  Month_12_Items   \n",
       "count            10000.000000    10000.000000    10000.000000  \\\n",
       "mean                 2.519500      478.629330       56.512600   \n",
       "std                  1.702266      233.135282       25.263995   \n",
       "min                  0.000000       45.093583       12.000000   \n",
       "25%                  1.000000      276.507055       35.000000   \n",
       "50%                  3.000000      481.872558       56.000000   \n",
       "75%                  4.000000      681.397961       77.000000   \n",
       "max                  5.000000      889.612221      113.000000   \n",
       "\n",
       "       Month_12_Support_Calls        Churn  \n",
       "count            10000.000000  10000.00000  \n",
       "mean                 2.496300      0.70000  \n",
       "std                  1.713674      0.45828  \n",
       "min                  0.000000      0.00000  \n",
       "25%                  1.000000      0.00000  \n",
       "50%                  3.000000      1.00000  \n",
       "75%                  4.000000      1.00000  \n",
       "max                  5.000000      1.00000  \n",
       "\n",
       "[8 rows x 40 columns]"
      ]
     },
     "execution_count": 247,
     "metadata": {},
     "output_type": "execute_result"
    }
   ],
   "source": [
    "df.describe()"
   ]
  },
  {
   "cell_type": "code",
   "execution_count": 248,
   "metadata": {},
   "outputs": [
    {
     "data": {
      "text/plain": [
       "<Axes: xlabel='Churn', ylabel='Age'>"
      ]
     },
     "execution_count": 248,
     "metadata": {},
     "output_type": "execute_result"
    },
    {
     "data": {
      "image/png": "[encoded data removed]",
      "text/plain": [
       "<Figure size 640x480 with 1 Axes>"
      ]
     },
     "metadata": {},
     "output_type": "display_data"
    }
   ],
   "source": [
    "sns.boxplot(x='Churn', y='Age', data=df)"
   ]
  },
  {
   "cell_type": "code",
   "execution_count": 249,
   "metadata": {},
   "outputs": [
    {
     "data": {
      "text/plain": [
       "<Axes: xlabel='Location', ylabel='count'>"
      ]
     },
     "execution_count": 249,
     "metadata": {},
     "output_type": "execute_result"
    },
    {
     "data": {
      "image/png": "[encoded data removed]",
      "text/plain": [
       "<Figure size 640x480 with 1 Axes>"
      ]
     },
     "metadata": {},
     "output_type": "display_data"
    }
   ],
   "source": [
    "sns.countplot(x='Location', hue='Churn', data=df)\n"
   ]
  },
  {
   "cell_type": "code",
   "execution_count": 250,
   "metadata": {},
   "outputs": [
    {
     "data": {
      "text/plain": [
       "<Axes: xlabel='Device', ylabel='count'>"
      ]
     },
     "execution_count": 250,
     "metadata": {},
     "output_type": "execute_result"
    },
    {
     "data": {
      "image/png": "[encoded data removed]",
      "text/plain": [
       "<Figure size 640x480 with 1 Axes>"
      ]
     },
     "metadata": {},
     "output_type": "display_data"
    }
   ],
   "source": [
    "sns.countplot(x='Device', hue='Churn', data=df)"
   ]
  },
  {
   "cell_type": "code",
   "execution_count": 251,
   "metadata": {},
   "outputs": [
    {
     "data": {
      "text/plain": [
       "Index(['Unnamed: 0', 'CustomerID', 'Age', 'Location', 'Device',\n",
       "       'Month_1_Spend', 'Month_1_Items', 'Month_1_Support_Calls',\n",
       "       'Month_2_Spend', 'Month_2_Items', 'Month_2_Support_Calls',\n",
       "       'Month_3_Spend', 'Month_3_Items', 'Month_3_Support_Calls',\n",
       "       'Month_4_Spend', 'Month_4_Items', 'Month_4_Support_Calls',\n",
       "       'Month_5_Spend', 'Month_5_Items', 'Month_5_Support_Calls',\n",
       "       'Month_6_Spend', 'Month_6_Items', 'Month_6_Support_Calls',\n",
       "       'Month_7_Spend', 'Month_7_Items', 'Month_7_Support_Calls',\n",
       "       'Month_8_Spend', 'Month_8_Items', 'Month_8_Support_Calls',\n",
       "       'Month_9_Spend', 'Month_9_Items', 'Month_9_Support_Calls',\n",
       "       'Month_10_Spend', 'Month_10_Items', 'Month_10_Support_Calls',\n",
       "       'Month_11_Spend', 'Month_11_Items', 'Month_11_Support_Calls',\n",
       "       'Month_12_Spend', 'Month_12_Items', 'Month_12_Support_Calls', 'Churn'],\n",
       "      dtype='object')"
      ]
     },
     "execution_count": 251,
     "metadata": {},
     "output_type": "execute_result"
    }
   ],
   "source": [
    "df.columns"
   ]
  },
  {
   "cell_type": "code",
   "execution_count": 252,
   "metadata": {},
   "outputs": [],
   "source": [
    "for col in ['Month_1_Spend','Month_2_Spend', 'Month_3_Spend', 'Month_4_Spend', 'Month_5_Spend', 'Month_6_Spend', 'Month_7_Spend', \n",
    "       'Month_8_Spend', \n",
    "       'Month_9_Spend', \n",
    "       'Month_10_Spend', \n",
    "       'Month_11_Spend', \n",
    "       'Month_12_Spend']:\n",
    "    df[col] = pd.to_numeric(df[col], errors='coerce')"
   ]
  },
  {
   "cell_type": "code",
   "execution_count": 253,
   "metadata": {},
   "outputs": [
    {
     "name": "stdout",
     "output_type": "stream",
     "text": [
      "<class 'pandas.core.frame.DataFrame'>\n",
      "RangeIndex: 10000 entries, 0 to 9999\n",
      "Data columns (total 42 columns):\n",
      " #   Column                  Non-Null Count  Dtype  \n",
      "---  ------                  --------------  -----  \n",
      " 0   Unnamed: 0              10000 non-null  int64  \n",
      " 1   CustomerID              10000 non-null  int64  \n",
      " 2   Age                     10000 non-null  int64  \n",
      " 3   Location                10000 non-null  object \n",
      " 4   Device                  10000 non-null  object \n",
      " 5   Month_1_Spend           10000 non-null  float64\n",
      " 6   Month_1_Items           10000 non-null  int64  \n",
      " 7   Month_1_Support_Calls   10000 non-null  int64  \n",
      " 8   Month_2_Spend           10000 non-null  float64\n",
      " 9   Month_2_Items           10000 non-null  int64  \n",
      " 10  Month_2_Support_Calls   10000 non-null  int64  \n",
      " 11  Month_3_Spend           10000 non-null  float64\n",
      " 12  Month_3_Items           10000 non-null  int64  \n",
      " 13  Month_3_Support_Calls   10000 non-null  int64  \n",
      " 14  Month_4_Spend           10000 non-null  float64\n",
      " 15  Month_4_Items           10000 non-null  int64  \n",
      " 16  Month_4_Support_Calls   10000 non-null  int64  \n",
      " 17  Month_5_Spend           10000 non-null  float64\n",
      " 18  Month_5_Items           10000 non-null  int64  \n",
      " 19  Month_5_Support_Calls   10000 non-null  int64  \n",
      " 20  Month_6_Spend           10000 non-null  float64\n",
      " 21  Month_6_Items           10000 non-null  int64  \n",
      " 22  Month_6_Support_Calls   10000 non-null  int64  \n",
      " 23  Month_7_Spend           10000 non-null  float64\n",
      " 24  Month_7_Items           10000 non-null  int64  \n",
      " 25  Month_7_Support_Calls   10000 non-null  int64  \n",
      " 26  Month_8_Spend           10000 non-null  float64\n",
      " 27  Month_8_Items           10000 non-null  int64  \n",
      " 28  Month_8_Support_Calls   10000 non-null  int64  \n",
      " 29  Month_9_Spend           10000 non-null  float64\n",
      " 30  Month_9_Items           10000 non-null  int64  \n",
      " 31  Month_9_Support_Calls   10000 non-null  int64  \n",
      " 32  Month_10_Spend          10000 non-null  float64\n",
      " 33  Month_10_Items          10000 non-null  int64  \n",
      " 34  Month_10_Support_Calls  10000 non-null  int64  \n",
      " 35  Month_11_Spend          10000 non-null  float64\n",
      " 36  Month_11_Items          10000 non-null  int64  \n",
      " 37  Month_11_Support_Calls  10000 non-null  int64  \n",
      " 38  Month_12_Spend          10000 non-null  float64\n",
      " 39  Month_12_Items          10000 non-null  int64  \n",
      " 40  Month_12_Support_Calls  10000 non-null  int64  \n",
      " 41  Churn                   10000 non-null  int64  \n",
      "dtypes: float64(12), int64(28), object(2)\n",
      "memory usage: 3.2+ MB\n"
     ]
    }
   ],
   "source": [
    "df.info()"
   ]
  },
  {
   "cell_type": "code",
   "execution_count": 254,
   "metadata": {},
   "outputs": [],
   "source": [
    "df['yearly_items'] = df['Month_1_Items']+df['Month_2_Items']+df['Month_3_Items']+df['Month_4_Items']+df['Month_5_Items']+df['Month_6_Items']+df['Month_7_Items']+df['Month_8_Items']+df['Month_9_Items']+df['Month_10_Items']+df['Month_11_Items']+df['Month_12_Items']"
   ]
  },
  {
   "cell_type": "code",
   "execution_count": 255,
   "metadata": {},
   "outputs": [
    {
     "data": {
      "text/html": [
       "<div>\n",
       "<style scoped>\n",
       "    .dataframe tbody tr th:only-of-type {\n",
       "        vertical-align: middle;\n",
       "    }\n",
       "\n",
       "    .dataframe tbody tr th {\n",
       "        vertical-align: top;\n",
       "    }\n",
       "\n",
       "    .dataframe thead th {\n",
       "        text-align: right;\n",
       "    }\n",
       "</style>\n",
       "<table border=\"1\" class=\"dataframe\">\n",
       "  <thead>\n",
       "    <tr style=\"text-align: right;\">\n",
       "      <th></th>\n",
       "      <th>Unnamed: 0</th>\n",
       "      <th>CustomerID</th>\n",
       "      <th>Age</th>\n",
       "      <th>Location</th>\n",
       "      <th>Device</th>\n",
       "      <th>Month_1_Spend</th>\n",
       "      <th>Month_1_Items</th>\n",
       "      <th>Month_1_Support_Calls</th>\n",
       "      <th>Month_2_Spend</th>\n",
       "      <th>Month_2_Items</th>\n",
       "      <th>...</th>\n",
       "      <th>Month_10_Items</th>\n",
       "      <th>Month_10_Support_Calls</th>\n",
       "      <th>Month_11_Spend</th>\n",
       "      <th>Month_11_Items</th>\n",
       "      <th>Month_11_Support_Calls</th>\n",
       "      <th>Month_12_Spend</th>\n",
       "      <th>Month_12_Items</th>\n",
       "      <th>Month_12_Support_Calls</th>\n",
       "      <th>Churn</th>\n",
       "      <th>yearly_items</th>\n",
       "    </tr>\n",
       "  </thead>\n",
       "  <tbody>\n",
       "    <tr>\n",
       "      <th>0</th>\n",
       "      <td>0</td>\n",
       "      <td>1</td>\n",
       "      <td>46</td>\n",
       "      <td>US</td>\n",
       "      <td>iOS</td>\n",
       "      <td>756.005761</td>\n",
       "      <td>39</td>\n",
       "      <td>2</td>\n",
       "      <td>582.023075</td>\n",
       "      <td>92</td>\n",
       "      <td>...</td>\n",
       "      <td>60</td>\n",
       "      <td>0</td>\n",
       "      <td>700.181510</td>\n",
       "      <td>66</td>\n",
       "      <td>3</td>\n",
       "      <td>382.719682</td>\n",
       "      <td>59</td>\n",
       "      <td>0</td>\n",
       "      <td>1</td>\n",
       "      <td>758</td>\n",
       "    </tr>\n",
       "    <tr>\n",
       "      <th>1</th>\n",
       "      <td>1</td>\n",
       "      <td>2</td>\n",
       "      <td>52</td>\n",
       "      <td>US</td>\n",
       "      <td>iOS</td>\n",
       "      <td>594.838157</td>\n",
       "      <td>59</td>\n",
       "      <td>0</td>\n",
       "      <td>251.269898</td>\n",
       "      <td>33</td>\n",
       "      <td>...</td>\n",
       "      <td>89</td>\n",
       "      <td>1</td>\n",
       "      <td>571.331352</td>\n",
       "      <td>28</td>\n",
       "      <td>3</td>\n",
       "      <td>570.203975</td>\n",
       "      <td>89</td>\n",
       "      <td>0</td>\n",
       "      <td>1</td>\n",
       "      <td>704</td>\n",
       "    </tr>\n",
       "    <tr>\n",
       "      <th>2</th>\n",
       "      <td>2</td>\n",
       "      <td>3</td>\n",
       "      <td>43</td>\n",
       "      <td>Canada</td>\n",
       "      <td>Android</td>\n",
       "      <td>453.217405</td>\n",
       "      <td>21</td>\n",
       "      <td>3</td>\n",
       "      <td>124.178946</td>\n",
       "      <td>92</td>\n",
       "      <td>...</td>\n",
       "      <td>60</td>\n",
       "      <td>5</td>\n",
       "      <td>198.222684</td>\n",
       "      <td>38</td>\n",
       "      <td>1</td>\n",
       "      <td>187.475764</td>\n",
       "      <td>79</td>\n",
       "      <td>5</td>\n",
       "      <td>1</td>\n",
       "      <td>757</td>\n",
       "    </tr>\n",
       "    <tr>\n",
       "      <th>3</th>\n",
       "      <td>3</td>\n",
       "      <td>4</td>\n",
       "      <td>41</td>\n",
       "      <td>US</td>\n",
       "      <td>iOS</td>\n",
       "      <td>621.453170</td>\n",
       "      <td>95</td>\n",
       "      <td>1</td>\n",
       "      <td>134.362559</td>\n",
       "      <td>46</td>\n",
       "      <td>...</td>\n",
       "      <td>59</td>\n",
       "      <td>3</td>\n",
       "      <td>565.395592</td>\n",
       "      <td>78</td>\n",
       "      <td>1</td>\n",
       "      <td>281.415092</td>\n",
       "      <td>63</td>\n",
       "      <td>4</td>\n",
       "      <td>1</td>\n",
       "      <td>855</td>\n",
       "    </tr>\n",
       "    <tr>\n",
       "      <th>4</th>\n",
       "      <td>4</td>\n",
       "      <td>5</td>\n",
       "      <td>41</td>\n",
       "      <td>US</td>\n",
       "      <td>iOS</td>\n",
       "      <td>660.735119</td>\n",
       "      <td>48</td>\n",
       "      <td>5</td>\n",
       "      <td>713.265527</td>\n",
       "      <td>54</td>\n",
       "      <td>...</td>\n",
       "      <td>85</td>\n",
       "      <td>1</td>\n",
       "      <td>574.382094</td>\n",
       "      <td>34</td>\n",
       "      <td>2</td>\n",
       "      <td>544.981985</td>\n",
       "      <td>28</td>\n",
       "      <td>2</td>\n",
       "      <td>1</td>\n",
       "      <td>673</td>\n",
       "    </tr>\n",
       "  </tbody>\n",
       "</table>\n",
       "<p>5 rows × 43 columns</p>\n",
       "</div>"
      ],
      "text/plain": [
       "   Unnamed: 0  CustomerID  Age Location   Device  Month_1_Spend   \n",
       "0           0           1   46       US      iOS     756.005761  \\\n",
       "1           1           2   52       US      iOS     594.838157   \n",
       "2           2           3   43   Canada  Android     453.217405   \n",
       "3           3           4   41       US      iOS     621.453170   \n",
       "4           4           5   41       US      iOS     660.735119   \n",
       "\n",
       "   Month_1_Items  Month_1_Support_Calls  Month_2_Spend  Month_2_Items  ...   \n",
       "0             39                      2     582.023075             92  ...  \\\n",
       "1             59                      0     251.269898             33  ...   \n",
       "2             21                      3     124.178946             92  ...   \n",
       "3             95                      1     134.362559             46  ...   \n",
       "4             48                      5     713.265527             54  ...   \n",
       "\n",
       "   Month_10_Items  Month_10_Support_Calls  Month_11_Spend  Month_11_Items   \n",
       "0              60                       0      700.181510              66  \\\n",
       "1              89                       1      571.331352              28   \n",
       "2              60                       5      198.222684              38   \n",
       "3              59                       3      565.395592              78   \n",
       "4              85                       1      574.382094              34   \n",
       "\n",
       "   Month_11_Support_Calls  Month_12_Spend  Month_12_Items   \n",
       "0                       3      382.719682              59  \\\n",
       "1                       3      570.203975              89   \n",
       "2                       1      187.475764              79   \n",
       "3                       1      281.415092              63   \n",
       "4                       2      544.981985              28   \n",
       "\n",
       "   Month_12_Support_Calls  Churn  yearly_items  \n",
       "0                       0      1           758  \n",
       "1                       0      1           704  \n",
       "2                       5      1           757  \n",
       "3                       4      1           855  \n",
       "4                       2      1           673  \n",
       "\n",
       "[5 rows x 43 columns]"
      ]
     },
     "execution_count": 255,
     "metadata": {},
     "output_type": "execute_result"
    }
   ],
   "source": [
    "df.head()"
   ]
  },
  {
   "cell_type": "code",
   "execution_count": 256,
   "metadata": {},
   "outputs": [],
   "source": [
    "df['yearly_spend'] = df['Month_1_Spend']+df['Month_2_Spend']+df['Month_3_Spend']+df['Month_4_Spend']+df['Month_5_Spend']+df['Month_6_Spend']+df['Month_7_Spend']+df['Month_8_Spend']+df['Month_9_Spend']+df['Month_10_Spend']+df['Month_11_Spend']+df['Month_12_Spend']"
   ]
  },
  {
   "cell_type": "code",
   "execution_count": 257,
   "metadata": {},
   "outputs": [],
   "source": [
    "df['yearly_calls'] = df['Month_1_Support_Calls']+df['Month_2_Support_Calls']+df['Month_3_Support_Calls']+df['Month_4_Support_Calls']+df['Month_5_Support_Calls']+df['Month_6_Support_Calls']+df['Month_7_Support_Calls']+df['Month_8_Support_Calls']+df['Month_9_Support_Calls']+df['Month_10_Support_Calls']+df['Month_11_Support_Calls']+df['Month_12_Support_Calls']"
   ]
  },
  {
   "cell_type": "code",
   "execution_count": 258,
   "metadata": {},
   "outputs": [
    {
     "data": {
      "text/html": [
       "<div>\n",
       "<style scoped>\n",
       "    .dataframe tbody tr th:only-of-type {\n",
       "        vertical-align: middle;\n",
       "    }\n",
       "\n",
       "    .dataframe tbody tr th {\n",
       "        vertical-align: top;\n",
       "    }\n",
       "\n",
       "    .dataframe thead th {\n",
       "        text-align: right;\n",
       "    }\n",
       "</style>\n",
       "<table border=\"1\" class=\"dataframe\">\n",
       "  <thead>\n",
       "    <tr style=\"text-align: right;\">\n",
       "      <th></th>\n",
       "      <th>Unnamed: 0</th>\n",
       "      <th>CustomerID</th>\n",
       "      <th>Age</th>\n",
       "      <th>Location</th>\n",
       "      <th>Device</th>\n",
       "      <th>Month_1_Spend</th>\n",
       "      <th>Month_1_Items</th>\n",
       "      <th>Month_1_Support_Calls</th>\n",
       "      <th>Month_2_Spend</th>\n",
       "      <th>Month_2_Items</th>\n",
       "      <th>...</th>\n",
       "      <th>Month_11_Spend</th>\n",
       "      <th>Month_11_Items</th>\n",
       "      <th>Month_11_Support_Calls</th>\n",
       "      <th>Month_12_Spend</th>\n",
       "      <th>Month_12_Items</th>\n",
       "      <th>Month_12_Support_Calls</th>\n",
       "      <th>Churn</th>\n",
       "      <th>yearly_items</th>\n",
       "      <th>yearly_spend</th>\n",
       "      <th>yearly_calls</th>\n",
       "    </tr>\n",
       "  </thead>\n",
       "  <tbody>\n",
       "    <tr>\n",
       "      <th>0</th>\n",
       "      <td>0</td>\n",
       "      <td>1</td>\n",
       "      <td>46</td>\n",
       "      <td>US</td>\n",
       "      <td>iOS</td>\n",
       "      <td>756.005761</td>\n",
       "      <td>39</td>\n",
       "      <td>2</td>\n",
       "      <td>582.023075</td>\n",
       "      <td>92</td>\n",
       "      <td>...</td>\n",
       "      <td>700.181510</td>\n",
       "      <td>66</td>\n",
       "      <td>3</td>\n",
       "      <td>382.719682</td>\n",
       "      <td>59</td>\n",
       "      <td>0</td>\n",
       "      <td>1</td>\n",
       "      <td>758</td>\n",
       "      <td>6827.801568</td>\n",
       "      <td>23</td>\n",
       "    </tr>\n",
       "    <tr>\n",
       "      <th>1</th>\n",
       "      <td>1</td>\n",
       "      <td>2</td>\n",
       "      <td>52</td>\n",
       "      <td>US</td>\n",
       "      <td>iOS</td>\n",
       "      <td>594.838157</td>\n",
       "      <td>59</td>\n",
       "      <td>0</td>\n",
       "      <td>251.269898</td>\n",
       "      <td>33</td>\n",
       "      <td>...</td>\n",
       "      <td>571.331352</td>\n",
       "      <td>28</td>\n",
       "      <td>3</td>\n",
       "      <td>570.203975</td>\n",
       "      <td>89</td>\n",
       "      <td>0</td>\n",
       "      <td>1</td>\n",
       "      <td>704</td>\n",
       "      <td>5352.977440</td>\n",
       "      <td>22</td>\n",
       "    </tr>\n",
       "    <tr>\n",
       "      <th>2</th>\n",
       "      <td>2</td>\n",
       "      <td>3</td>\n",
       "      <td>43</td>\n",
       "      <td>Canada</td>\n",
       "      <td>Android</td>\n",
       "      <td>453.217405</td>\n",
       "      <td>21</td>\n",
       "      <td>3</td>\n",
       "      <td>124.178946</td>\n",
       "      <td>92</td>\n",
       "      <td>...</td>\n",
       "      <td>198.222684</td>\n",
       "      <td>38</td>\n",
       "      <td>1</td>\n",
       "      <td>187.475764</td>\n",
       "      <td>79</td>\n",
       "      <td>5</td>\n",
       "      <td>1</td>\n",
       "      <td>757</td>\n",
       "      <td>5068.724122</td>\n",
       "      <td>32</td>\n",
       "    </tr>\n",
       "    <tr>\n",
       "      <th>3</th>\n",
       "      <td>3</td>\n",
       "      <td>4</td>\n",
       "      <td>41</td>\n",
       "      <td>US</td>\n",
       "      <td>iOS</td>\n",
       "      <td>621.453170</td>\n",
       "      <td>95</td>\n",
       "      <td>1</td>\n",
       "      <td>134.362559</td>\n",
       "      <td>46</td>\n",
       "      <td>...</td>\n",
       "      <td>565.395592</td>\n",
       "      <td>78</td>\n",
       "      <td>1</td>\n",
       "      <td>281.415092</td>\n",
       "      <td>63</td>\n",
       "      <td>4</td>\n",
       "      <td>1</td>\n",
       "      <td>855</td>\n",
       "      <td>5239.350565</td>\n",
       "      <td>26</td>\n",
       "    </tr>\n",
       "    <tr>\n",
       "      <th>4</th>\n",
       "      <td>4</td>\n",
       "      <td>5</td>\n",
       "      <td>41</td>\n",
       "      <td>US</td>\n",
       "      <td>iOS</td>\n",
       "      <td>660.735119</td>\n",
       "      <td>48</td>\n",
       "      <td>5</td>\n",
       "      <td>713.265527</td>\n",
       "      <td>54</td>\n",
       "      <td>...</td>\n",
       "      <td>574.382094</td>\n",
       "      <td>34</td>\n",
       "      <td>2</td>\n",
       "      <td>544.981985</td>\n",
       "      <td>28</td>\n",
       "      <td>2</td>\n",
       "      <td>1</td>\n",
       "      <td>673</td>\n",
       "      <td>5531.102731</td>\n",
       "      <td>20</td>\n",
       "    </tr>\n",
       "  </tbody>\n",
       "</table>\n",
       "<p>5 rows × 45 columns</p>\n",
       "</div>"
      ],
      "text/plain": [
       "   Unnamed: 0  CustomerID  Age Location   Device  Month_1_Spend   \n",
       "0           0           1   46       US      iOS     756.005761  \\\n",
       "1           1           2   52       US      iOS     594.838157   \n",
       "2           2           3   43   Canada  Android     453.217405   \n",
       "3           3           4   41       US      iOS     621.453170   \n",
       "4           4           5   41       US      iOS     660.735119   \n",
       "\n",
       "   Month_1_Items  Month_1_Support_Calls  Month_2_Spend  Month_2_Items  ...   \n",
       "0             39                      2     582.023075             92  ...  \\\n",
       "1             59                      0     251.269898             33  ...   \n",
       "2             21                      3     124.178946             92  ...   \n",
       "3             95                      1     134.362559             46  ...   \n",
       "4             48                      5     713.265527             54  ...   \n",
       "\n",
       "   Month_11_Spend  Month_11_Items  Month_11_Support_Calls  Month_12_Spend   \n",
       "0      700.181510              66                       3      382.719682  \\\n",
       "1      571.331352              28                       3      570.203975   \n",
       "2      198.222684              38                       1      187.475764   \n",
       "3      565.395592              78                       1      281.415092   \n",
       "4      574.382094              34                       2      544.981985   \n",
       "\n",
       "   Month_12_Items  Month_12_Support_Calls  Churn  yearly_items  yearly_spend   \n",
       "0              59                       0      1           758   6827.801568  \\\n",
       "1              89                       0      1           704   5352.977440   \n",
       "2              79                       5      1           757   5068.724122   \n",
       "3              63                       4      1           855   5239.350565   \n",
       "4              28                       2      1           673   5531.102731   \n",
       "\n",
       "   yearly_calls  \n",
       "0            23  \n",
       "1            22  \n",
       "2            32  \n",
       "3            26  \n",
       "4            20  \n",
       "\n",
       "[5 rows x 45 columns]"
      ]
     },
     "execution_count": 258,
     "metadata": {},
     "output_type": "execute_result"
    }
   ],
   "source": [
    "df.head()"
   ]
  },
  {
   "cell_type": "code",
   "execution_count": 259,
   "metadata": {},
   "outputs": [
    {
     "data": {
      "text/plain": [
       "<Axes: xlabel='Churn', ylabel='yearly_spend'>"
      ]
     },
     "execution_count": 259,
     "metadata": {},
     "output_type": "execute_result"
    },
    {
     "data": {
      "image/png": "[encoded data removed]",
      "text/plain": [
       "<Figure size 640x480 with 1 Axes>"
      ]
     },
     "metadata": {},
     "output_type": "display_data"
    }
   ],
   "source": [
    "sns.boxplot(x='Churn', y='yearly_spend', data=df)"
   ]
  },
  {
   "cell_type": "code",
   "execution_count": 260,
   "metadata": {},
   "outputs": [
    {
     "data": {
      "text/plain": [
       "<Axes: xlabel='Churn', ylabel='yearly_items'>"
      ]
     },
     "execution_count": 260,
     "metadata": {},
     "output_type": "execute_result"
    },
    {
     "data": {
      "image/png": "[encoded data removed]",
      "text/plain": [
       "<Figure size 640x480 with 1 Axes>"
      ]
     },
     "metadata": {},
     "output_type": "display_data"
    }
   ],
   "source": [
    "sns.boxplot(x='Churn', y='yearly_items', data=df)"
   ]
  },
  {
   "cell_type": "code",
   "execution_count": 261,
   "metadata": {},
   "outputs": [
    {
     "data": {
      "text/plain": [
       "<Axes: xlabel='Churn', ylabel='yearly_calls'>"
      ]
     },
     "execution_count": 261,
     "metadata": {},
     "output_type": "execute_result"
    },
    {
     "data": {
      "image/png": "[encoded data removed]",
      "text/plain": [
       "<Figure size 640x480 with 1 Axes>"
      ]
     },
     "metadata": {},
     "output_type": "display_data"
    }
   ],
   "source": [
    "sns.boxplot(x='Churn', y='yearly_calls', data=df)"
   ]
  },
  {
   "cell_type": "code",
   "execution_count": 262,
   "metadata": {},
   "outputs": [
    {
     "data": {
      "text/plain": [
       "<Axes: xlabel='Churn', ylabel='yearly_calls'>"
      ]
     },
     "execution_count": 262,
     "metadata": {},
     "output_type": "execute_result"
    },
    {
     "data": {
      "image/png": "[encoded data removed]",
      "text/plain": [
       "<Figure size 2000x1000 with 6 Axes>"
      ]
     },
     "metadata": {},
     "output_type": "display_data"
    }
   ],
   "source": [
    "fig, ((ax1,ax2,ax3),(ax4,ax5,ax6)) = plt.subplots(2,3, figsize=(20,10))\n",
    "sns.boxplot(x='Churn', y='Age', ax=ax1, data=df)\n",
    "sns.boxplot(x='Churn', y='Location', ax=ax2, data=df)\n",
    "sns.boxplot(x='Churn', y='Device', ax=ax3, data=df)\n",
    "sns.boxplot(x='Churn', y='yearly_items', ax=ax4, data=df)\n",
    "sns.boxplot(x='Churn', y='yearly_spend', ax=ax5, data=df)\n",
    "sns.boxplot(x='Churn', y='yearly_calls', ax=ax6, data=df)"
   ]
  },
  {
   "cell_type": "code",
   "execution_count": 263,
   "metadata": {},
   "outputs": [
    {
     "data": {
      "text/plain": [
       "Index(['Unnamed: 0', 'CustomerID', 'Age', 'Location', 'Device',\n",
       "       'Month_1_Spend', 'Month_1_Items', 'Month_1_Support_Calls',\n",
       "       'Month_2_Spend', 'Month_2_Items', 'Month_2_Support_Calls',\n",
       "       'Month_3_Spend', 'Month_3_Items', 'Month_3_Support_Calls',\n",
       "       'Month_4_Spend', 'Month_4_Items', 'Month_4_Support_Calls',\n",
       "       'Month_5_Spend', 'Month_5_Items', 'Month_5_Support_Calls',\n",
       "       'Month_6_Spend', 'Month_6_Items', 'Month_6_Support_Calls',\n",
       "       'Month_7_Spend', 'Month_7_Items', 'Month_7_Support_Calls',\n",
       "       'Month_8_Spend', 'Month_8_Items', 'Month_8_Support_Calls',\n",
       "       'Month_9_Spend', 'Month_9_Items', 'Month_9_Support_Calls',\n",
       "       'Month_10_Spend', 'Month_10_Items', 'Month_10_Support_Calls',\n",
       "       'Month_11_Spend', 'Month_11_Items', 'Month_11_Support_Calls',\n",
       "       'Month_12_Spend', 'Month_12_Items', 'Month_12_Support_Calls', 'Churn',\n",
       "       'yearly_items', 'yearly_spend', 'yearly_calls'],\n",
       "      dtype='object')"
      ]
     },
     "execution_count": 263,
     "metadata": {},
     "output_type": "execute_result"
    }
   ],
   "source": [
    "df.columns"
   ]
  },
  {
   "cell_type": "code",
   "execution_count": 264,
   "metadata": {},
   "outputs": [],
   "source": [
    "df_device = df.groupby(['Churn','Location'])[['Age']].count().unstack()"
   ]
  },
  {
   "cell_type": "code",
   "execution_count": 265,
   "metadata": {},
   "outputs": [
    {
     "data": {
      "text/html": [
       "<div>\n",
       "<style scoped>\n",
       "    .dataframe tbody tr th:only-of-type {\n",
       "        vertical-align: middle;\n",
       "    }\n",
       "\n",
       "    .dataframe tbody tr th {\n",
       "        vertical-align: top;\n",
       "    }\n",
       "\n",
       "    .dataframe thead tr th {\n",
       "        text-align: left;\n",
       "    }\n",
       "\n",
       "    .dataframe thead tr:last-of-type th {\n",
       "        text-align: right;\n",
       "    }\n",
       "</style>\n",
       "<table border=\"1\" class=\"dataframe\">\n",
       "  <thead>\n",
       "    <tr>\n",
       "      <th></th>\n",
       "      <th colspan=\"4\" halign=\"left\">Age</th>\n",
       "    </tr>\n",
       "    <tr>\n",
       "      <th>Location</th>\n",
       "      <th>Australia</th>\n",
       "      <th>Canada</th>\n",
       "      <th>Great Britain</th>\n",
       "      <th>US</th>\n",
       "    </tr>\n",
       "    <tr>\n",
       "      <th>Churn</th>\n",
       "      <th></th>\n",
       "      <th></th>\n",
       "      <th></th>\n",
       "      <th></th>\n",
       "    </tr>\n",
       "  </thead>\n",
       "  <tbody>\n",
       "    <tr>\n",
       "      <th>0</th>\n",
       "      <td>725.0</td>\n",
       "      <td>763.0</td>\n",
       "      <td>762.0</td>\n",
       "      <td>750.0</td>\n",
       "    </tr>\n",
       "    <tr>\n",
       "      <th>1</th>\n",
       "      <td>NaN</td>\n",
       "      <td>3495.0</td>\n",
       "      <td>NaN</td>\n",
       "      <td>3505.0</td>\n",
       "    </tr>\n",
       "  </tbody>\n",
       "</table>\n",
       "</div>"
      ],
      "text/plain": [
       "               Age                              \n",
       "Location Australia  Canada Great Britain      US\n",
       "Churn                                           \n",
       "0            725.0   763.0         762.0   750.0\n",
       "1              NaN  3495.0           NaN  3505.0"
      ]
     },
     "execution_count": 265,
     "metadata": {},
     "output_type": "execute_result"
    }
   ],
   "source": [
    "df_device"
   ]
  },
  {
   "cell_type": "code",
   "execution_count": 266,
   "metadata": {},
   "outputs": [],
   "source": [
    "df_device = df.groupby(['Churn','Device'])[['Age']].count().unstack()"
   ]
  },
  {
   "cell_type": "code",
   "execution_count": 267,
   "metadata": {},
   "outputs": [
    {
     "data": {
      "text/html": [
       "<div>\n",
       "<style scoped>\n",
       "    .dataframe tbody tr th:only-of-type {\n",
       "        vertical-align: middle;\n",
       "    }\n",
       "\n",
       "    .dataframe tbody tr th {\n",
       "        vertical-align: top;\n",
       "    }\n",
       "\n",
       "    .dataframe thead tr th {\n",
       "        text-align: left;\n",
       "    }\n",
       "\n",
       "    .dataframe thead tr:last-of-type th {\n",
       "        text-align: right;\n",
       "    }\n",
       "</style>\n",
       "<table border=\"1\" class=\"dataframe\">\n",
       "  <thead>\n",
       "    <tr>\n",
       "      <th></th>\n",
       "      <th colspan=\"2\" halign=\"left\">Age</th>\n",
       "    </tr>\n",
       "    <tr>\n",
       "      <th>Device</th>\n",
       "      <th>Android</th>\n",
       "      <th>iOS</th>\n",
       "    </tr>\n",
       "    <tr>\n",
       "      <th>Churn</th>\n",
       "      <th></th>\n",
       "      <th></th>\n",
       "    </tr>\n",
       "  </thead>\n",
       "  <tbody>\n",
       "    <tr>\n",
       "      <th>0</th>\n",
       "      <td>896</td>\n",
       "      <td>2104</td>\n",
       "    </tr>\n",
       "    <tr>\n",
       "      <th>1</th>\n",
       "      <td>4840</td>\n",
       "      <td>2160</td>\n",
       "    </tr>\n",
       "  </tbody>\n",
       "</table>\n",
       "</div>"
      ],
      "text/plain": [
       "           Age      \n",
       "Device Android   iOS\n",
       "Churn               \n",
       "0          896  2104\n",
       "1         4840  2160"
      ]
     },
     "execution_count": 267,
     "metadata": {},
     "output_type": "execute_result"
    }
   ],
   "source": [
    "df_device"
   ]
  },
  {
   "cell_type": "code",
   "execution_count": 268,
   "metadata": {},
   "outputs": [
    {
     "data": {
      "text/plain": [
       "Index(['Unnamed: 0', 'CustomerID', 'Age', 'Location', 'Device',\n",
       "       'Month_1_Spend', 'Month_1_Items', 'Month_1_Support_Calls',\n",
       "       'Month_2_Spend', 'Month_2_Items', 'Month_2_Support_Calls',\n",
       "       'Month_3_Spend', 'Month_3_Items', 'Month_3_Support_Calls',\n",
       "       'Month_4_Spend', 'Month_4_Items', 'Month_4_Support_Calls',\n",
       "       'Month_5_Spend', 'Month_5_Items', 'Month_5_Support_Calls',\n",
       "       'Month_6_Spend', 'Month_6_Items', 'Month_6_Support_Calls',\n",
       "       'Month_7_Spend', 'Month_7_Items', 'Month_7_Support_Calls',\n",
       "       'Month_8_Spend', 'Month_8_Items', 'Month_8_Support_Calls',\n",
       "       'Month_9_Spend', 'Month_9_Items', 'Month_9_Support_Calls',\n",
       "       'Month_10_Spend', 'Month_10_Items', 'Month_10_Support_Calls',\n",
       "       'Month_11_Spend', 'Month_11_Items', 'Month_11_Support_Calls',\n",
       "       'Month_12_Spend', 'Month_12_Items', 'Month_12_Support_Calls', 'Churn',\n",
       "       'yearly_items', 'yearly_spend', 'yearly_calls'],\n",
       "      dtype='object')"
      ]
     },
     "execution_count": 268,
     "metadata": {},
     "output_type": "execute_result"
    }
   ],
   "source": [
    "df.columns"
   ]
  },
  {
   "cell_type": "code",
   "execution_count": 269,
   "metadata": {},
   "outputs": [],
   "source": [
    "location_dummies = pd.get_dummies(df['Location'], dtype=int)"
   ]
  },
  {
   "cell_type": "code",
   "execution_count": 270,
   "metadata": {},
   "outputs": [],
   "source": [
    "location_dummies.columns = ['A', 'C', 'G','U']"
   ]
  },
  {
   "cell_type": "code",
   "execution_count": 271,
   "metadata": {},
   "outputs": [],
   "source": [
    "df = pd.concat([df, location_dummies], axis=1)"
   ]
  },
  {
   "cell_type": "code",
   "execution_count": 272,
   "metadata": {},
   "outputs": [],
   "source": [
    "device_dummies = pd.get_dummies(df['Device'], dtype=int)"
   ]
  },
  {
   "cell_type": "code",
   "execution_count": 273,
   "metadata": {},
   "outputs": [],
   "source": [
    "device_dummies.columns = ['Android', 'IOS']"
   ]
  },
  {
   "cell_type": "code",
   "execution_count": 274,
   "metadata": {},
   "outputs": [],
   "source": [
    "df = pd.concat([df, device_dummies], axis=1)"
   ]
  },
  {
   "cell_type": "code",
   "execution_count": 275,
   "metadata": {},
   "outputs": [
    {
     "data": {
      "text/html": [
       "<div>\n",
       "<style scoped>\n",
       "    .dataframe tbody tr th:only-of-type {\n",
       "        vertical-align: middle;\n",
       "    }\n",
       "\n",
       "    .dataframe tbody tr th {\n",
       "        vertical-align: top;\n",
       "    }\n",
       "\n",
       "    .dataframe thead th {\n",
       "        text-align: right;\n",
       "    }\n",
       "</style>\n",
       "<table border=\"1\" class=\"dataframe\">\n",
       "  <thead>\n",
       "    <tr style=\"text-align: right;\">\n",
       "      <th></th>\n",
       "      <th>Unnamed: 0</th>\n",
       "      <th>CustomerID</th>\n",
       "      <th>Age</th>\n",
       "      <th>Location</th>\n",
       "      <th>Device</th>\n",
       "      <th>Month_1_Spend</th>\n",
       "      <th>Month_1_Items</th>\n",
       "      <th>Month_1_Support_Calls</th>\n",
       "      <th>Month_2_Spend</th>\n",
       "      <th>Month_2_Items</th>\n",
       "      <th>...</th>\n",
       "      <th>Churn</th>\n",
       "      <th>yearly_items</th>\n",
       "      <th>yearly_spend</th>\n",
       "      <th>yearly_calls</th>\n",
       "      <th>A</th>\n",
       "      <th>C</th>\n",
       "      <th>G</th>\n",
       "      <th>U</th>\n",
       "      <th>Android</th>\n",
       "      <th>IOS</th>\n",
       "    </tr>\n",
       "  </thead>\n",
       "  <tbody>\n",
       "    <tr>\n",
       "      <th>0</th>\n",
       "      <td>0</td>\n",
       "      <td>1</td>\n",
       "      <td>46</td>\n",
       "      <td>US</td>\n",
       "      <td>iOS</td>\n",
       "      <td>756.005761</td>\n",
       "      <td>39</td>\n",
       "      <td>2</td>\n",
       "      <td>582.023075</td>\n",
       "      <td>92</td>\n",
       "      <td>...</td>\n",
       "      <td>1</td>\n",
       "      <td>758</td>\n",
       "      <td>6827.801568</td>\n",
       "      <td>23</td>\n",
       "      <td>0</td>\n",
       "      <td>0</td>\n",
       "      <td>0</td>\n",
       "      <td>1</td>\n",
       "      <td>0</td>\n",
       "      <td>1</td>\n",
       "    </tr>\n",
       "    <tr>\n",
       "      <th>1</th>\n",
       "      <td>1</td>\n",
       "      <td>2</td>\n",
       "      <td>52</td>\n",
       "      <td>US</td>\n",
       "      <td>iOS</td>\n",
       "      <td>594.838157</td>\n",
       "      <td>59</td>\n",
       "      <td>0</td>\n",
       "      <td>251.269898</td>\n",
       "      <td>33</td>\n",
       "      <td>...</td>\n",
       "      <td>1</td>\n",
       "      <td>704</td>\n",
       "      <td>5352.977440</td>\n",
       "      <td>22</td>\n",
       "      <td>0</td>\n",
       "      <td>0</td>\n",
       "      <td>0</td>\n",
       "      <td>1</td>\n",
       "      <td>0</td>\n",
       "      <td>1</td>\n",
       "    </tr>\n",
       "    <tr>\n",
       "      <th>2</th>\n",
       "      <td>2</td>\n",
       "      <td>3</td>\n",
       "      <td>43</td>\n",
       "      <td>Canada</td>\n",
       "      <td>Android</td>\n",
       "      <td>453.217405</td>\n",
       "      <td>21</td>\n",
       "      <td>3</td>\n",
       "      <td>124.178946</td>\n",
       "      <td>92</td>\n",
       "      <td>...</td>\n",
       "      <td>1</td>\n",
       "      <td>757</td>\n",
       "      <td>5068.724122</td>\n",
       "      <td>32</td>\n",
       "      <td>0</td>\n",
       "      <td>1</td>\n",
       "      <td>0</td>\n",
       "      <td>0</td>\n",
       "      <td>1</td>\n",
       "      <td>0</td>\n",
       "    </tr>\n",
       "    <tr>\n",
       "      <th>3</th>\n",
       "      <td>3</td>\n",
       "      <td>4</td>\n",
       "      <td>41</td>\n",
       "      <td>US</td>\n",
       "      <td>iOS</td>\n",
       "      <td>621.453170</td>\n",
       "      <td>95</td>\n",
       "      <td>1</td>\n",
       "      <td>134.362559</td>\n",
       "      <td>46</td>\n",
       "      <td>...</td>\n",
       "      <td>1</td>\n",
       "      <td>855</td>\n",
       "      <td>5239.350565</td>\n",
       "      <td>26</td>\n",
       "      <td>0</td>\n",
       "      <td>0</td>\n",
       "      <td>0</td>\n",
       "      <td>1</td>\n",
       "      <td>0</td>\n",
       "      <td>1</td>\n",
       "    </tr>\n",
       "    <tr>\n",
       "      <th>4</th>\n",
       "      <td>4</td>\n",
       "      <td>5</td>\n",
       "      <td>41</td>\n",
       "      <td>US</td>\n",
       "      <td>iOS</td>\n",
       "      <td>660.735119</td>\n",
       "      <td>48</td>\n",
       "      <td>5</td>\n",
       "      <td>713.265527</td>\n",
       "      <td>54</td>\n",
       "      <td>...</td>\n",
       "      <td>1</td>\n",
       "      <td>673</td>\n",
       "      <td>5531.102731</td>\n",
       "      <td>20</td>\n",
       "      <td>0</td>\n",
       "      <td>0</td>\n",
       "      <td>0</td>\n",
       "      <td>1</td>\n",
       "      <td>0</td>\n",
       "      <td>1</td>\n",
       "    </tr>\n",
       "  </tbody>\n",
       "</table>\n",
       "<p>5 rows × 51 columns</p>\n",
       "</div>"
      ],
      "text/plain": [
       "   Unnamed: 0  CustomerID  Age Location   Device  Month_1_Spend   \n",
       "0           0           1   46       US      iOS     756.005761  \\\n",
       "1           1           2   52       US      iOS     594.838157   \n",
       "2           2           3   43   Canada  Android     453.217405   \n",
       "3           3           4   41       US      iOS     621.453170   \n",
       "4           4           5   41       US      iOS     660.735119   \n",
       "\n",
       "   Month_1_Items  Month_1_Support_Calls  Month_2_Spend  Month_2_Items  ...   \n",
       "0             39                      2     582.023075             92  ...  \\\n",
       "1             59                      0     251.269898             33  ...   \n",
       "2             21                      3     124.178946             92  ...   \n",
       "3             95                      1     134.362559             46  ...   \n",
       "4             48                      5     713.265527             54  ...   \n",
       "\n",
       "   Churn  yearly_items  yearly_spend  yearly_calls  A  C  G  U  Android  IOS  \n",
       "0      1           758   6827.801568            23  0  0  0  1        0    1  \n",
       "1      1           704   5352.977440            22  0  0  0  1        0    1  \n",
       "2      1           757   5068.724122            32  0  1  0  0        1    0  \n",
       "3      1           855   5239.350565            26  0  0  0  1        0    1  \n",
       "4      1           673   5531.102731            20  0  0  0  1        0    1  \n",
       "\n",
       "[5 rows x 51 columns]"
      ]
     },
     "execution_count": 275,
     "metadata": {},
     "output_type": "execute_result"
    }
   ],
   "source": [
    "df.head()"
   ]
  },
  {
   "cell_type": "code",
   "execution_count": 276,
   "metadata": {},
   "outputs": [],
   "source": [
    "#Logistic Regression"
   ]
  },
  {
   "cell_type": "code",
   "execution_count": 277,
   "metadata": {},
   "outputs": [
    {
     "name": "stderr",
     "output_type": "stream",
     "text": [
      "/Library/Frameworks/Python.framework/Versions/3.11/lib/python3.11/site-packages/sklearn/linear_model/_logistic.py:458: ConvergenceWarning: lbfgs failed to converge (status=1):\n",
      "STOP: TOTAL NO. of ITERATIONS REACHED LIMIT.\n",
      "\n",
      "Increase the number of iterations (max_iter) or scale the data as shown in:\n",
      "    https://scikit-learn.org/stable/modules/preprocessing.html\n",
      "Please also refer to the documentation for alternative solver options:\n",
      "    https://scikit-learn.org/stable/modules/linear_model.html#logistic-regression\n",
      "  n_iter_i = _check_optimize_result(\n"
     ]
    },
    {
     "data": {
      "text/html": [
       "<style>#sk-container-id-11 {color: black;background-color: white;}#sk-container-id-11 pre{padding: 0;}#sk-container-id-11 div.sk-toggleable {background-color: white;}#sk-container-id-11 label.sk-toggleable__label {cursor: pointer;display: block;width: 100%;margin-bottom: 0;padding: 0.3em;box-sizing: border-box;text-align: center;}#sk-container-id-11 label.sk-toggleable__label-arrow:before {content: \"▸\";float: left;margin-right: 0.25em;color: #696969;}#sk-container-id-11 label.sk-toggleable__label-arrow:hover:before {color: black;}#sk-container-id-11 div.sk-estimator:hover label.sk-toggleable__label-arrow:before {color: black;}#sk-container-id-11 div.sk-toggleable__content {max-height: 0;max-width: 0;overflow: hidden;text-align: left;background-color: #f0f8ff;}#sk-container-id-11 div.sk-toggleable__content pre {margin: 0.2em;color: black;border-radius: 0.25em;background-color: #f0f8ff;}#sk-container-id-11 input.sk-toggleable__control:checked~div.sk-toggleable__content {max-height: 200px;max-width: 100%;overflow: auto;}#sk-container-id-11 input.sk-toggleable__control:checked~label.sk-toggleable__label-arrow:before {content: \"▾\";}#sk-container-id-11 div.sk-estimator input.sk-toggleable__control:checked~label.sk-toggleable__label {background-color: #d4ebff;}#sk-container-id-11 div.sk-label input.sk-toggleable__control:checked~label.sk-toggleable__label {background-color: #d4ebff;}#sk-container-id-11 input.sk-hidden--visually {border: 0;clip: rect(1px 1px 1px 1px);clip: rect(1px, 1px, 1px, 1px);height: 1px;margin: -1px;overflow: hidden;padding: 0;position: absolute;width: 1px;}#sk-container-id-11 div.sk-estimator {font-family: monospace;background-color: #f0f8ff;border: 1px dotted black;border-radius: 0.25em;box-sizing: border-box;margin-bottom: 0.5em;}#sk-container-id-11 div.sk-estimator:hover {background-color: #d4ebff;}#sk-container-id-11 div.sk-parallel-item::after {content: \"\";width: 100%;border-bottom: 1px solid gray;flex-grow: 1;}#sk-container-id-11 div.sk-label:hover label.sk-toggleable__label {background-color: #d4ebff;}#sk-container-id-11 div.sk-serial::before {content: \"\";position: absolute;border-left: 1px solid gray;box-sizing: border-box;top: 0;bottom: 0;left: 50%;z-index: 0;}#sk-container-id-11 div.sk-serial {display: flex;flex-direction: column;align-items: center;background-color: white;padding-right: 0.2em;padding-left: 0.2em;position: relative;}#sk-container-id-11 div.sk-item {position: relative;z-index: 1;}#sk-container-id-11 div.sk-parallel {display: flex;align-items: stretch;justify-content: center;background-color: white;position: relative;}#sk-container-id-11 div.sk-item::before, #sk-container-id-11 div.sk-parallel-item::before {content: \"\";position: absolute;border-left: 1px solid gray;box-sizing: border-box;top: 0;bottom: 0;left: 50%;z-index: -1;}#sk-container-id-11 div.sk-parallel-item {display: flex;flex-direction: column;z-index: 1;position: relative;background-color: white;}#sk-container-id-11 div.sk-parallel-item:first-child::after {align-self: flex-end;width: 50%;}#sk-container-id-11 div.sk-parallel-item:last-child::after {align-self: flex-start;width: 50%;}#sk-container-id-11 div.sk-parallel-item:only-child::after {width: 0;}#sk-container-id-11 div.sk-dashed-wrapped {border: 1px dashed gray;margin: 0 0.4em 0.5em 0.4em;box-sizing: border-box;padding-bottom: 0.4em;background-color: white;}#sk-container-id-11 div.sk-label label {font-family: monospace;font-weight: bold;display: inline-block;line-height: 1.2em;}#sk-container-id-11 div.sk-label-container {text-align: center;}#sk-container-id-11 div.sk-container {/* jupyter's `normalize.less` sets `[hidden] { display: none; }` but bootstrap.min.css set `[hidden] { display: none !important; }` so we also need the `!important` here to be able to override the default hidden behavior on the sphinx rendered scikit-learn.org. See: https://github.com/scikit-learn/scikit-learn/issues/21755 */display: inline-block !important;position: relative;}#sk-container-id-11 div.sk-text-repr-fallback {display: none;}</style><div id=\"sk-container-id-11\" class=\"sk-top-container\"><div class=\"sk-text-repr-fallback\"><pre>LogisticRegression()</pre><b>In a Jupyter environment, please rerun this cell to show the HTML representation or trust the notebook. <br />On GitHub, the HTML representation is unable to render, please try loading this page with nbviewer.org.</b></div><div class=\"sk-container\" hidden><div class=\"sk-item\"><div class=\"sk-estimator sk-toggleable\"><input class=\"sk-toggleable__control sk-hidden--visually\" id=\"sk-estimator-id-11\" type=\"checkbox\" checked><label for=\"sk-estimator-id-11\" class=\"sk-toggleable__label sk-toggleable__label-arrow\">LogisticRegression</label><div class=\"sk-toggleable__content\"><pre>LogisticRegression()</pre></div></div></div></div></div>"
      ],
      "text/plain": [
       "LogisticRegression()"
      ]
     },
     "execution_count": 277,
     "metadata": {},
     "output_type": "execute_result"
    }
   ],
   "source": [
    "log = LogisticRegression()\n",
    "log.fit(df[['Age','yearly_items', 'yearly_spend', 'yearly_calls','A','C','G','U','Android','IOS']], df['Churn'])\n"
   ]
  },
  {
   "cell_type": "code",
   "execution_count": 278,
   "metadata": {},
   "outputs": [],
   "source": [
    "pred = log.predict(df[['Age','yearly_items', 'yearly_spend', 'yearly_calls','A','C','G','U','Android','IOS']])"
   ]
  },
  {
   "cell_type": "code",
   "execution_count": 279,
   "metadata": {},
   "outputs": [
    {
     "name": "stdout",
     "output_type": "stream",
     "text": [
      "0.8545\n",
      "0.9044460497799962\n",
      "0.9837142857142858\n",
      "0.8370001215509907\n"
     ]
    }
   ],
   "source": [
    "print(accuracy_score(pred,df['Churn']))\n",
    "print(f1_score(pred,df['Churn']))\n",
    "print(precision_score(pred,df['Churn']))\n",
    "print(recall_score(pred,df['Churn']))"
   ]
  },
  {
   "cell_type": "code",
   "execution_count": 280,
   "metadata": {},
   "outputs": [
    {
     "data": {
      "text/html": [
       "<div>\n",
       "<style scoped>\n",
       "    .dataframe tbody tr th:only-of-type {\n",
       "        vertical-align: middle;\n",
       "    }\n",
       "\n",
       "    .dataframe tbody tr th {\n",
       "        vertical-align: top;\n",
       "    }\n",
       "\n",
       "    .dataframe thead th {\n",
       "        text-align: right;\n",
       "    }\n",
       "</style>\n",
       "<table border=\"1\" class=\"dataframe\">\n",
       "  <thead>\n",
       "    <tr style=\"text-align: right;\">\n",
       "      <th></th>\n",
       "      <th>0</th>\n",
       "      <th>1</th>\n",
       "    </tr>\n",
       "  </thead>\n",
       "  <tbody>\n",
       "    <tr>\n",
       "      <th>0</th>\n",
       "      <td>Age</td>\n",
       "      <td>-0.02466</td>\n",
       "    </tr>\n",
       "    <tr>\n",
       "      <th>1</th>\n",
       "      <td>yearly_items</td>\n",
       "      <td>-0.004044</td>\n",
       "    </tr>\n",
       "    <tr>\n",
       "      <th>2</th>\n",
       "      <td>yearly_spend</td>\n",
       "      <td>0.000224</td>\n",
       "    </tr>\n",
       "    <tr>\n",
       "      <th>3</th>\n",
       "      <td>yearly_calls</td>\n",
       "      <td>0.00937</td>\n",
       "    </tr>\n",
       "    <tr>\n",
       "      <th>4</th>\n",
       "      <td>A</td>\n",
       "      <td>-3.165571</td>\n",
       "    </tr>\n",
       "    <tr>\n",
       "      <th>5</th>\n",
       "      <td>C</td>\n",
       "      <td>3.308596</td>\n",
       "    </tr>\n",
       "    <tr>\n",
       "      <th>6</th>\n",
       "      <td>G</td>\n",
       "      <td>-3.344324</td>\n",
       "    </tr>\n",
       "    <tr>\n",
       "      <th>7</th>\n",
       "      <td>U</td>\n",
       "      <td>3.578302</td>\n",
       "    </tr>\n",
       "    <tr>\n",
       "      <th>8</th>\n",
       "      <td>Android</td>\n",
       "      <td>1.0255</td>\n",
       "    </tr>\n",
       "    <tr>\n",
       "      <th>9</th>\n",
       "      <td>IOS</td>\n",
       "      <td>-0.648496</td>\n",
       "    </tr>\n",
       "  </tbody>\n",
       "</table>\n",
       "</div>"
      ],
      "text/plain": [
       "              0         1\n",
       "0           Age  -0.02466\n",
       "1  yearly_items -0.004044\n",
       "2  yearly_spend  0.000224\n",
       "3  yearly_calls   0.00937\n",
       "4             A -3.165571\n",
       "5             C  3.308596\n",
       "6             G -3.344324\n",
       "7             U  3.578302\n",
       "8       Android    1.0255\n",
       "9           IOS -0.648496"
      ]
     },
     "execution_count": 280,
     "metadata": {},
     "output_type": "execute_result"
    }
   ],
   "source": [
    "pd.DataFrame([log.feature_names_in_,log.coef_.flatten()]).T"
   ]
  },
  {
   "cell_type": "code",
   "execution_count": 281,
   "metadata": {},
   "outputs": [],
   "source": [
    "x = df[['Age','yearly_items', 'A','C','G','U','Android','IOS']]\n",
    "y = df['Churn']"
   ]
  },
  {
   "cell_type": "code",
   "execution_count": 282,
   "metadata": {},
   "outputs": [],
   "source": [
    "x_train, x_test, y_train, y_test = train_test_split(x,y, test_size=0.2, random_state=1234)"
   ]
  },
  {
   "cell_type": "code",
   "execution_count": 283,
   "metadata": {},
   "outputs": [],
   "source": [
    "knn = KNeighborsClassifier()\n",
    "log = LogisticRegression()\n",
    "nb = GaussianNB()\n",
    "svc = SVC(kernel='linear')"
   ]
  },
  {
   "cell_type": "code",
   "execution_count": 284,
   "metadata": {},
   "outputs": [
    {
     "data": {
      "text/html": [
       "<style>#sk-container-id-12 {color: black;background-color: white;}#sk-container-id-12 pre{padding: 0;}#sk-container-id-12 div.sk-toggleable {background-color: white;}#sk-container-id-12 label.sk-toggleable__label {cursor: pointer;display: block;width: 100%;margin-bottom: 0;padding: 0.3em;box-sizing: border-box;text-align: center;}#sk-container-id-12 label.sk-toggleable__label-arrow:before {content: \"▸\";float: left;margin-right: 0.25em;color: #696969;}#sk-container-id-12 label.sk-toggleable__label-arrow:hover:before {color: black;}#sk-container-id-12 div.sk-estimator:hover label.sk-toggleable__label-arrow:before {color: black;}#sk-container-id-12 div.sk-toggleable__content {max-height: 0;max-width: 0;overflow: hidden;text-align: left;background-color: #f0f8ff;}#sk-container-id-12 div.sk-toggleable__content pre {margin: 0.2em;color: black;border-radius: 0.25em;background-color: #f0f8ff;}#sk-container-id-12 input.sk-toggleable__control:checked~div.sk-toggleable__content {max-height: 200px;max-width: 100%;overflow: auto;}#sk-container-id-12 input.sk-toggleable__control:checked~label.sk-toggleable__label-arrow:before {content: \"▾\";}#sk-container-id-12 div.sk-estimator input.sk-toggleable__control:checked~label.sk-toggleable__label {background-color: #d4ebff;}#sk-container-id-12 div.sk-label input.sk-toggleable__control:checked~label.sk-toggleable__label {background-color: #d4ebff;}#sk-container-id-12 input.sk-hidden--visually {border: 0;clip: rect(1px 1px 1px 1px);clip: rect(1px, 1px, 1px, 1px);height: 1px;margin: -1px;overflow: hidden;padding: 0;position: absolute;width: 1px;}#sk-container-id-12 div.sk-estimator {font-family: monospace;background-color: #f0f8ff;border: 1px dotted black;border-radius: 0.25em;box-sizing: border-box;margin-bottom: 0.5em;}#sk-container-id-12 div.sk-estimator:hover {background-color: #d4ebff;}#sk-container-id-12 div.sk-parallel-item::after {content: \"\";width: 100%;border-bottom: 1px solid gray;flex-grow: 1;}#sk-container-id-12 div.sk-label:hover label.sk-toggleable__label {background-color: #d4ebff;}#sk-container-id-12 div.sk-serial::before {content: \"\";position: absolute;border-left: 1px solid gray;box-sizing: border-box;top: 0;bottom: 0;left: 50%;z-index: 0;}#sk-container-id-12 div.sk-serial {display: flex;flex-direction: column;align-items: center;background-color: white;padding-right: 0.2em;padding-left: 0.2em;position: relative;}#sk-container-id-12 div.sk-item {position: relative;z-index: 1;}#sk-container-id-12 div.sk-parallel {display: flex;align-items: stretch;justify-content: center;background-color: white;position: relative;}#sk-container-id-12 div.sk-item::before, #sk-container-id-12 div.sk-parallel-item::before {content: \"\";position: absolute;border-left: 1px solid gray;box-sizing: border-box;top: 0;bottom: 0;left: 50%;z-index: -1;}#sk-container-id-12 div.sk-parallel-item {display: flex;flex-direction: column;z-index: 1;position: relative;background-color: white;}#sk-container-id-12 div.sk-parallel-item:first-child::after {align-self: flex-end;width: 50%;}#sk-container-id-12 div.sk-parallel-item:last-child::after {align-self: flex-start;width: 50%;}#sk-container-id-12 div.sk-parallel-item:only-child::after {width: 0;}#sk-container-id-12 div.sk-dashed-wrapped {border: 1px dashed gray;margin: 0 0.4em 0.5em 0.4em;box-sizing: border-box;padding-bottom: 0.4em;background-color: white;}#sk-container-id-12 div.sk-label label {font-family: monospace;font-weight: bold;display: inline-block;line-height: 1.2em;}#sk-container-id-12 div.sk-label-container {text-align: center;}#sk-container-id-12 div.sk-container {/* jupyter's `normalize.less` sets `[hidden] { display: none; }` but bootstrap.min.css set `[hidden] { display: none !important; }` so we also need the `!important` here to be able to override the default hidden behavior on the sphinx rendered scikit-learn.org. See: https://github.com/scikit-learn/scikit-learn/issues/21755 */display: inline-block !important;position: relative;}#sk-container-id-12 div.sk-text-repr-fallback {display: none;}</style><div id=\"sk-container-id-12\" class=\"sk-top-container\"><div class=\"sk-text-repr-fallback\"><pre>SVC(kernel=&#x27;linear&#x27;)</pre><b>In a Jupyter environment, please rerun this cell to show the HTML representation or trust the notebook. <br />On GitHub, the HTML representation is unable to render, please try loading this page with nbviewer.org.</b></div><div class=\"sk-container\" hidden><div class=\"sk-item\"><div class=\"sk-estimator sk-toggleable\"><input class=\"sk-toggleable__control sk-hidden--visually\" id=\"sk-estimator-id-12\" type=\"checkbox\" checked><label for=\"sk-estimator-id-12\" class=\"sk-toggleable__label sk-toggleable__label-arrow\">SVC</label><div class=\"sk-toggleable__content\"><pre>SVC(kernel=&#x27;linear&#x27;)</pre></div></div></div></div></div>"
      ],
      "text/plain": [
       "SVC(kernel='linear')"
      ]
     },
     "execution_count": 284,
     "metadata": {},
     "output_type": "execute_result"
    }
   ],
   "source": [
    "knn.fit(x_train, y_train)\n",
    "log.fit(x_train, y_train)\n",
    "nb.fit(x_train, y_train)\n",
    "svc.fit(x_train, y_train)"
   ]
  },
  {
   "cell_type": "code",
   "execution_count": 285,
   "metadata": {},
   "outputs": [],
   "source": [
    "pred_knn = knn.predict(x_test)\n",
    "pred_log = log.predict(x_test)\n",
    "pred_nb = nb.predict(x_test)\n",
    "pred_sv = svc.predict(x_test)"
   ]
  },
  {
   "cell_type": "code",
   "execution_count": 286,
   "metadata": {},
   "outputs": [
    {
     "name": "stdout",
     "output_type": "stream",
     "text": [
      "0.8169934640522876\n",
      "0.911869918699187\n",
      "0.9115863389722312\n",
      "0.9115863389722312\n"
     ]
    }
   ],
   "source": [
    "print(f1_score(pred_knn,y_test))\n",
    "print(f1_score(pred_log,y_test))\n",
    "print(f1_score(pred_nb,y_test))\n",
    "print(f1_score(pred_sv,y_test))"
   ]
  },
  {
   "cell_type": "code",
   "execution_count": 287,
   "metadata": {},
   "outputs": [],
   "source": [
    "from sklearn.model_selection import RandomizedSearchCV\n",
    "from scipy.stats import uniform\n"
   ]
  },
  {
   "cell_type": "code",
   "execution_count": 288,
   "metadata": {},
   "outputs": [
    {
     "data": {
      "text/plain": [
       "({'solver': 'liblinear', 'penalty': 'l2', 'C': 100}, 0.850375)"
      ]
     },
     "execution_count": 288,
     "metadata": {},
     "output_type": "execute_result"
    }
   ],
   "source": [
    "logistic_params = {\n",
    "    'C': [0.001, 0.01, 0.1, 1, 10, 100],\n",
    "    'penalty': ['l1', 'l2'],\n",
    "    'solver': ['liblinear']\n",
    "}\n",
    "\n",
    "\n",
    "logistic_model = LogisticRegression(random_state=42)\n",
    "\n",
    "\n",
    "logistic_ram = RandomizedSearchCV(logistic_model, logistic_params, cv=5)\n",
    "logistic_ram.fit(x_train, y_train)\n",
    "\n",
    "# Best parameters and score\n",
    "best_logistic_params = logistic_ram.best_params_\n",
    "best_logistic_score = logistic_ram.best_score_\n",
    "\n",
    "best_logistic_params, best_logistic_score"
   ]
  },
  {
   "cell_type": "code",
   "execution_count": 289,
   "metadata": {},
   "outputs": [],
   "source": [
    "log_pred_prob = log.predict_proba(x_test)"
   ]
  },
  {
   "cell_type": "code",
   "execution_count": 290,
   "metadata": {},
   "outputs": [],
   "source": [
    "fpr, tpr, tresholds = roc_curve(y_test,log_pred_prob[:,1])"
   ]
  },
  {
   "cell_type": "code",
   "execution_count": 291,
   "metadata": {},
   "outputs": [
    {
     "data": {
      "text/plain": [
       "[<matplotlib.lines.Line2D at 0x13cd58d10>]"
      ]
     },
     "execution_count": 291,
     "metadata": {},
     "output_type": "execute_result"
    },
    {
     "data": {
      "image/png": "[encoded data removed]",
      "text/plain": [
       "<Figure size 640x480 with 1 Axes>"
      ]
     },
     "metadata": {},
     "output_type": "display_data"
    }
   ],
   "source": [
    "plt.plot(fpr,tpr)"
   ]
  },
  {
   "cell_type": "code",
   "execution_count": 292,
   "metadata": {},
   "outputs": [],
   "source": [
    "gmeans = np.sqrt(tpr*(1-fpr))"
   ]
  },
  {
   "cell_type": "code",
   "execution_count": 293,
   "metadata": {},
   "outputs": [
    {
     "name": "stdout",
     "output_type": "stream",
     "text": [
      "0.7007985000648502\n",
      "0.8002017947878748\n"
     ]
    }
   ],
   "source": [
    "print(tresholds[np.argmax(gmeans)])\n",
    "print(gmeans[np.argmax(gmeans)])"
   ]
  },
  {
   "cell_type": "code",
   "execution_count": 294,
   "metadata": {},
   "outputs": [
    {
     "data": {
      "text/plain": [
       "array([1.98047527e+00, 9.80475267e-01, 9.62784803e-01, 9.62691555e-01,\n",
       "       9.61961123e-01, 9.61652754e-01, 9.59171514e-01, 9.59112771e-01,\n",
       "       9.52670790e-01, 9.52444093e-01, 9.49339740e-01, 9.49101742e-01,\n",
       "       9.46378894e-01, 9.46376898e-01, 9.46006460e-01, 9.45949291e-01,\n",
       "       9.42339151e-01, 9.41988412e-01, 9.41595080e-01, 9.41558791e-01,\n",
       "       9.40539746e-01, 9.40418909e-01, 9.40221522e-01, 9.40213637e-01,\n",
       "       9.33883524e-01, 9.33858910e-01, 9.33467633e-01, 9.33370720e-01,\n",
       "       9.32896853e-01, 9.32809208e-01, 9.32148459e-01, 9.31958599e-01,\n",
       "       9.31462615e-01, 9.31448635e-01, 9.30990250e-01, 9.30949209e-01,\n",
       "       9.30518778e-01, 9.30357070e-01, 9.28241591e-01, 9.28228222e-01,\n",
       "       9.26725196e-01, 9.26519923e-01, 9.25750172e-01, 9.25719872e-01,\n",
       "       9.25361794e-01, 9.25154468e-01, 9.23514680e-01, 9.23504771e-01,\n",
       "       9.22473314e-01, 9.22423308e-01, 9.21129050e-01, 9.21034678e-01,\n",
       "       9.20369218e-01, 9.20226942e-01, 9.18947050e-01, 9.18848725e-01,\n",
       "       9.18771144e-01, 9.18726409e-01, 9.17642304e-01, 9.17531924e-01,\n",
       "       9.16097586e-01, 9.16046868e-01, 9.16042222e-01, 9.15945346e-01,\n",
       "       9.15779003e-01, 9.15612361e-01, 9.14421758e-01, 9.14318456e-01,\n",
       "       9.13124130e-01, 9.13108209e-01, 9.13066990e-01, 9.13014613e-01,\n",
       "       9.10299017e-01, 9.10264745e-01, 9.09375962e-01, 9.09324826e-01,\n",
       "       9.05931724e-01, 9.05626385e-01, 9.05611033e-01, 9.05539265e-01,\n",
       "       9.03535470e-01, 9.03486656e-01, 9.03389065e-01, 9.03310513e-01,\n",
       "       9.01422730e-01, 9.01339255e-01, 8.98913599e-01, 8.98886295e-01,\n",
       "       8.98717277e-01, 8.98622574e-01, 8.95557797e-01, 8.95499760e-01,\n",
       "       8.95467958e-01, 8.95271389e-01, 8.93161384e-01, 8.93075500e-01,\n",
       "       8.88205235e-01, 8.88191305e-01, 8.88169559e-01, 8.85801306e-01,\n",
       "       8.85604505e-01, 8.82302046e-01, 8.82067318e-01, 8.81210071e-01,\n",
       "       8.81151446e-01, 8.79434910e-01, 8.79250403e-01, 8.78784851e-01,\n",
       "       8.78699612e-01, 8.78605929e-01, 8.78509935e-01, 8.77724748e-01,\n",
       "       8.77563781e-01, 8.76645420e-01, 8.75783192e-01, 8.75214534e-01,\n",
       "       8.75188317e-01, 8.74720266e-01, 8.74459483e-01, 8.73720343e-01,\n",
       "       8.73452642e-01, 8.70942283e-01, 8.70793912e-01, 8.69812457e-01,\n",
       "       8.69674288e-01, 8.69402177e-01, 8.69306851e-01, 8.68838439e-01,\n",
       "       8.68516932e-01, 8.67175882e-01, 8.66924616e-01, 8.66827759e-01,\n",
       "       8.63752475e-01, 8.63038170e-01, 8.61359249e-01, 8.60976826e-01,\n",
       "       8.58831338e-01, 8.58644728e-01, 8.57458488e-01, 8.57356405e-01,\n",
       "       8.53525473e-01, 8.53307929e-01, 8.52937201e-01, 8.52932266e-01,\n",
       "       8.50970798e-01, 8.50856661e-01, 8.48867368e-01, 8.47895529e-01,\n",
       "       8.47127681e-01, 8.46716286e-01, 8.42418531e-01, 8.41527742e-01,\n",
       "       8.39991573e-01, 8.39434075e-01, 8.38243080e-01, 8.37794756e-01,\n",
       "       8.34028529e-01, 8.33715673e-01, 8.32748486e-01, 8.32695511e-01,\n",
       "       8.32539606e-01, 8.24481156e-01, 8.23869988e-01, 8.20662561e-01,\n",
       "       8.19866931e-01, 8.18876713e-01, 8.18351309e-01, 8.13770026e-01,\n",
       "       8.13124037e-01, 8.13023776e-01, 8.12320125e-01, 8.07212184e-01,\n",
       "       8.06919559e-01, 8.03650783e-01, 8.03622439e-01, 8.02874492e-01,\n",
       "       8.02510393e-01, 8.00161353e-01, 8.00039890e-01, 7.98722448e-01,\n",
       "       7.97521886e-01, 7.96447457e-01, 7.96327537e-01, 7.93423724e-01,\n",
       "       7.93377931e-01, 7.92990896e-01, 7.91039348e-01, 7.90608638e-01,\n",
       "       7.89395764e-01, 7.89345090e-01, 7.87457863e-01, 7.87437911e-01,\n",
       "       7.85746709e-01, 7.85434445e-01, 7.85312334e-01, 7.85100003e-01,\n",
       "       7.82127532e-01, 7.81947885e-01, 7.79799147e-01, 7.79685851e-01,\n",
       "       7.79194578e-01, 7.78727236e-01, 7.78636977e-01, 7.76507350e-01,\n",
       "       7.76011025e-01, 7.75684202e-01, 7.74935777e-01, 7.72752809e-01,\n",
       "       7.72721265e-01, 7.70236930e-01, 7.70181080e-01, 7.67348449e-01,\n",
       "       7.66079177e-01, 7.59365753e-01, 7.57839560e-01, 7.54878069e-01,\n",
       "       7.54718833e-01, 7.53718442e-01, 7.52830756e-01, 7.52015261e-01,\n",
       "       7.51899556e-01, 7.51735613e-01, 7.51332525e-01, 7.50768046e-01,\n",
       "       7.50655896e-01, 7.47963778e-01, 7.47390773e-01, 7.47149031e-01,\n",
       "       7.46586232e-01, 7.41120971e-01, 7.39795773e-01, 7.39407050e-01,\n",
       "       7.39137351e-01, 7.34747220e-01, 7.33830673e-01, 7.33080495e-01,\n",
       "       7.33045347e-01, 7.31874185e-01, 7.31579932e-01, 7.30998548e-01,\n",
       "       7.29805968e-01, 7.29332711e-01, 7.29147296e-01, 7.27700171e-01,\n",
       "       7.27617009e-01, 7.24803177e-01, 7.24336530e-01, 7.24120965e-01,\n",
       "       7.23090506e-01, 7.21598232e-01, 7.20822454e-01, 7.20259191e-01,\n",
       "       7.20218753e-01, 7.20198652e-01, 7.19735153e-01, 7.19678795e-01,\n",
       "       7.18819199e-01, 7.14031689e-01, 7.13402482e-01, 7.12862666e-01,\n",
       "       7.12461723e-01, 7.10080891e-01, 7.09537366e-01, 7.08279482e-01,\n",
       "       7.08250497e-01, 7.00798500e-01, 6.99980597e-01, 6.99064868e-01,\n",
       "       6.98631552e-01, 6.98075690e-01, 6.97481348e-01, 6.97101533e-01,\n",
       "       6.96738666e-01, 6.96252695e-01, 6.95872009e-01, 6.95635209e-01,\n",
       "       6.95275223e-01, 6.92077233e-01, 6.91974920e-01, 6.90494796e-01,\n",
       "       6.90451905e-01, 6.90302484e-01, 6.90169850e-01, 6.88641925e-01,\n",
       "       6.88402016e-01, 6.88268935e-01, 6.88255973e-01, 6.87565334e-01,\n",
       "       6.87526747e-01, 6.87281840e-01, 6.87251690e-01, 6.85974166e-01,\n",
       "       6.85746158e-01, 6.85702908e-01, 6.84435012e-01, 6.82857466e-01,\n",
       "       6.81644050e-01, 6.81162305e-01, 6.81058036e-01, 6.80867149e-01,\n",
       "       6.79170939e-01, 6.78944286e-01, 6.78739558e-01, 6.78094084e-01,\n",
       "       6.76967452e-01, 6.76512688e-01, 6.76342211e-01, 6.76000761e-01,\n",
       "       6.75619760e-01, 6.73509182e-01, 6.73152896e-01, 6.71726469e-01,\n",
       "       6.71519365e-01, 6.70327866e-01, 6.69448282e-01, 6.69010198e-01,\n",
       "       6.68917266e-01, 6.68186373e-01, 6.67512619e-01, 6.65068140e-01,\n",
       "       6.65059377e-01, 6.60878954e-01, 6.60121413e-01, 6.59785019e-01,\n",
       "       6.59394557e-01, 6.58604139e-01, 6.58226614e-01, 6.58141053e-01,\n",
       "       6.58087046e-01, 6.54163437e-01, 6.52656176e-01, 6.51763135e-01,\n",
       "       6.51354612e-01, 6.50537267e-01, 6.49686743e-01, 6.47518507e-01,\n",
       "       6.46938800e-01, 6.46134988e-01, 6.46089100e-01, 6.44813006e-01,\n",
       "       6.44057215e-01, 6.41997201e-01, 6.41528696e-01, 6.40479969e-01,\n",
       "       6.38193800e-01, 6.35669920e-01, 6.35174724e-01, 6.35077474e-01,\n",
       "       6.34980213e-01, 6.31954036e-01, 6.31359052e-01, 6.30963375e-01,\n",
       "       6.30041264e-01, 6.20351284e-01, 6.20082820e-01, 6.19786192e-01,\n",
       "       6.17942527e-01, 6.16318205e-01, 6.14993743e-01, 6.14160578e-01,\n",
       "       6.13492509e-01, 6.12932911e-01, 6.08789792e-01, 6.04626280e-01,\n",
       "       6.03746534e-01, 6.02253706e-01, 6.01161512e-01, 6.00427991e-01,\n",
       "       6.00327307e-01, 5.99132559e-01, 5.98498644e-01, 5.98354633e-01,\n",
       "       5.98128933e-01, 5.95055025e-01, 5.94703255e-01, 5.93970960e-01,\n",
       "       5.93117315e-01, 5.92620346e-01, 5.91278124e-01, 5.89886381e-01,\n",
       "       5.88792939e-01, 5.87383997e-01, 5.87049550e-01, 5.85900731e-01,\n",
       "       5.85367349e-01, 5.84809259e-01, 5.81855655e-01, 5.78491369e-01,\n",
       "       5.77735842e-01, 5.77584499e-01, 5.77413942e-01, 5.77057740e-01,\n",
       "       5.75476415e-01, 5.74992856e-01, 5.74890300e-01, 5.71178484e-01,\n",
       "       5.71066058e-01, 5.70796494e-01, 5.70434386e-01, 5.67566813e-01,\n",
       "       5.64483202e-01, 5.61134002e-01, 5.57749420e-01, 5.56526618e-01,\n",
       "       5.56107092e-01, 5.55934530e-01, 5.50119176e-01, 5.49955908e-01,\n",
       "       5.47466329e-01, 5.45653370e-01, 5.43824212e-01, 5.41959049e-01,\n",
       "       5.39263528e-01, 5.32000153e-01, 5.29401478e-01, 5.26806460e-01,\n",
       "       5.25356343e-01, 5.24818036e-01, 5.22918446e-01, 5.20165240e-01,\n",
       "       5.08482358e-01, 5.07188254e-01, 5.07073529e-01, 5.02166830e-01,\n",
       "       5.02036981e-01, 5.01392412e-01, 5.01002566e-01, 4.96800038e-01,\n",
       "       4.96775101e-01, 4.95450957e-01, 4.95435855e-01, 4.94041943e-01,\n",
       "       4.90135435e-01, 4.78194984e-01, 4.74993837e-01, 4.74565444e-01,\n",
       "       4.73693013e-01, 4.69096051e-01, 4.66747114e-01, 4.66538223e-01,\n",
       "       4.65827071e-01, 4.64857335e-01, 4.58935314e-01, 4.57655128e-01,\n",
       "       4.57015244e-01, 4.52916358e-01, 4.43879243e-01, 4.39802744e-01,\n",
       "       4.27682452e-01, 4.26694372e-01, 4.23031172e-01, 4.13916252e-01,\n",
       "       4.05543578e-01, 3.91844679e-01, 3.84217457e-01, 3.83517705e-01,\n",
       "       3.59641077e-01, 3.48365108e-01, 9.91162719e-04, 9.90787073e-04,\n",
       "       4.58881537e-04])"
      ]
     },
     "execution_count": 294,
     "metadata": {},
     "output_type": "execute_result"
    }
   ],
   "source": [
    "tresholds"
   ]
  },
  {
   "cell_type": "code",
   "execution_count": 295,
   "metadata": {},
   "outputs": [
    {
     "data": {
      "text/plain": [
       "array([0.        , 0.02646281, 0.16944464, 0.17352822, 0.19082601,\n",
       "       0.19049211, 0.21297665, 0.21278974, 0.2854874 , 0.28523642,\n",
       "       0.31534073, 0.31753825, 0.34784573, 0.34983913, 0.35182124,\n",
       "       0.35379224, 0.39201997, 0.39098333, 0.39886509, 0.39851195,\n",
       "       0.40793029, 0.40961945, 0.41130167, 0.41297704, 0.47734723,\n",
       "       0.47692386, 0.4819556 , 0.48338362, 0.4883488 , 0.48791491,\n",
       "       0.4956101 , 0.495862  , 0.50342235, 0.50297347, 0.50569227,\n",
       "       0.50478844, 0.50816047, 0.50950304, 0.52208526, 0.52339211,\n",
       "       0.53564817, 0.53516798, 0.53897706, 0.53849302, 0.54164397,\n",
       "       0.54115666, 0.5541835 , 0.55540822, 0.5651104 , 0.56460107,\n",
       "       0.57235612, 0.57183932, 0.57596818, 0.57544717, 0.57954293,\n",
       "       0.57901775, 0.5801816 , 0.58134313, 0.59169427, 0.59115709,\n",
       "       0.601321  , 0.60077409, 0.60133321, 0.6007853 , 0.60134339,\n",
       "       0.60245802, 0.60910298, 0.60799047, 0.61509531, 0.6161811 ,\n",
       "       0.61672327, 0.61559271, 0.6310851 , 0.63050479, 0.6347082 ,\n",
       "       0.63412348, 0.64655846, 0.64476661, 0.64527813, 0.64629995,\n",
       "       0.65391269, 0.65492104, 0.65592784, 0.65531909, 0.66380738,\n",
       "       0.66319017, 0.67254174, 0.67191525, 0.67240338, 0.67177584,\n",
       "       0.68767521, 0.68862701, 0.68910242, 0.6884581 , 0.69460306,\n",
       "       0.69395238, 0.7092979 , 0.70863221, 0.70955072, 0.71867128,\n",
       "       0.71731913, 0.72541452, 0.72472984, 0.72651489, 0.72582788,\n",
       "       0.72982452, 0.72913307, 0.73178286, 0.73108824, 0.73196854,\n",
       "       0.73127242, 0.73258964, 0.73346647, 0.73609068, 0.73468727,\n",
       "       0.73555827, 0.73485472, 0.73615804, 0.73545257, 0.73718509,\n",
       "       0.73647728, 0.7416456 , 0.74093214, 0.74350037, 0.74278374,\n",
       "       0.74363702, 0.74220004, 0.7430507 , 0.74088752, 0.74427059,\n",
       "       0.74354482, 0.74438737, 0.74858586, 0.74785447, 0.75202547,\n",
       "       0.75128927, 0.75625926, 0.75551747, 0.75963028, 0.75888371,\n",
       "       0.76256267, 0.76221903, 0.76262609, 0.76187362, 0.76430902,\n",
       "       0.7635534 , 0.76597867, 0.7652199 , 0.76642846, 0.76723311,\n",
       "       0.77044331, 0.7696786 , 0.77087779, 0.77011112, 0.77130726,\n",
       "       0.77053864, 0.7741124 , 0.77333945, 0.77492092, 0.77571045,\n",
       "       0.77493435, 0.77808131, 0.77730128, 0.77886842, 0.77808603,\n",
       "       0.77886763, 0.77808367, 0.78119913, 0.78041123, 0.7807994 ,\n",
       "       0.78001032, 0.78078529, 0.77999462, 0.78269825, 0.78190404,\n",
       "       0.78344322, 0.78264663, 0.78418123, 0.78338227, 0.78491232,\n",
       "       0.78411098, 0.78449263, 0.78369008, 0.78559363, 0.78478831,\n",
       "       0.78554766, 0.78474073, 0.78549856, 0.78625567, 0.78544635,\n",
       "       0.78695682, 0.78614511, 0.78840307, 0.78758818, 0.78796349,\n",
       "       0.78714737, 0.78939316, 0.78857386, 0.79043855, 0.79118319,\n",
       "       0.79036033, 0.7911035 , 0.790279  , 0.7910207 , 0.78936757,\n",
       "       0.78973739, 0.78890913, 0.79038511, 0.78955444, 0.79176093,\n",
       "       0.79092706, 0.7923931 , 0.7915568 , 0.79447768, 0.79363741,\n",
       "       0.79581873, 0.79497526, 0.79570027, 0.79485513, 0.795217  ,\n",
       "       0.79437058, 0.7947319 , 0.79388419, 0.7953263 , 0.79362507,\n",
       "       0.7954202 , 0.79456628, 0.79492444, 0.79406922, 0.7979941 ,\n",
       "       0.79713373, 0.79748919, 0.79662751, 0.79910867, 0.79737712,\n",
       "       0.79878841, 0.79705002, 0.79810455, 0.79723278, 0.79793426,\n",
       "       0.79706077, 0.7974109 , 0.79653606, 0.79758437, 0.79670742,\n",
       "       0.79914543, 0.79826483, 0.79861213, 0.79773017, 0.79877001,\n",
       "       0.79788593, 0.79823186, 0.79734641, 0.79769181, 0.79591718,\n",
       "       0.79626166, 0.79359113, 0.79735793, 0.79646151, 0.79680268,\n",
       "       0.79590488, 0.79726656, 0.79636621, 0.79772404, 0.79682112,\n",
       "       0.80020179, 0.79838522, 0.79939434, 0.79848335, 0.79915463,\n",
       "       0.79824183, 0.79891178, 0.79708151, 0.79774936, 0.79683188,\n",
       "       0.79716521, 0.7953263 , 0.79698704, 0.79606407, 0.79639541,\n",
       "       0.79547099, 0.79580181, 0.79487592, 0.79520623, 0.79335043,\n",
       "       0.79367983, 0.79274992, 0.79340753, 0.79247575, 0.79280397,\n",
       "       0.79187071, 0.79285338, 0.79191786, 0.79224476, 0.78943038,\n",
       "       0.79105707, 0.7882268 , 0.78855058, 0.7876045 , 0.78792776,\n",
       "       0.78698016, 0.78762549, 0.78667597, 0.78731999, 0.78636855,\n",
       "       0.78701127, 0.7860579 , 0.78637867, 0.78446766, 0.78510726,\n",
       "       0.78414923, 0.78478753, 0.78382754, 0.78446454, 0.7835026 ,\n",
       "       0.78382051, 0.78317439, 0.7838088 , 0.78187585, 0.78408677,\n",
       "       0.78471732, 0.7878625 , 0.78590992, 0.78622297, 0.7868487 ,\n",
       "       0.78841083, 0.78644717, 0.7870696 , 0.78608515, 0.78794718,\n",
       "       0.78596989, 0.78689693, 0.78590525, 0.78713804, 0.78614355,\n",
       "       0.78706571, 0.78507061, 0.78568323, 0.784683  , 0.78498874,\n",
       "       0.78298366, 0.78420231, 0.78319628, 0.78441148, 0.78340259,\n",
       "       0.78642849, 0.78541439, 0.78571596, 0.78470016, 0.78560298,\n",
       "       0.7845847 , 0.78488502, 0.78182105, 0.78450824, 0.78348072,\n",
       "       0.78377834, 0.78171847, 0.78231181, 0.78024493, 0.78054064,\n",
       "       0.77950476, 0.78009507, 0.77801758, 0.78007467, 0.77798611,\n",
       "       0.77974031, 0.77658983, 0.77775239, 0.77669781, 0.77698778,\n",
       "       0.77593138, 0.77622085, 0.7751626 , 0.77718314, 0.77505678,\n",
       "       0.77534421, 0.77427845, 0.77456537, 0.77349774, 0.77407049,\n",
       "       0.77085635, 0.77114137, 0.77006661, 0.77091987, 0.76984241,\n",
       "       0.77012623, 0.76904686, 0.77102785, 0.76994419, 0.77022637,\n",
       "       0.77079043, 0.77107231, 0.76998553, 0.77054818, 0.76945906,\n",
       "       0.77030107, 0.76920922, 0.76948929, 0.76839549, 0.76923389,\n",
       "       0.76483823, 0.7659483 , 0.76484384, 0.7651207 , 0.76401424,\n",
       "       0.7642906 , 0.76318213, 0.763458  , 0.76123541, 0.76178523,\n",
       "       0.75955453, 0.76010235, 0.75561793, 0.75697769, 0.75585039,\n",
       "       0.75612165, 0.75499226, 0.75526302, 0.75299836, 0.75353795,\n",
       "       0.75126482, 0.7518024 , 0.75066244, 0.75119882, 0.75005631,\n",
       "       0.75032395, 0.74917929, 0.74998041, 0.74883277, 0.74909922,\n",
       "       0.74794941, 0.74821535, 0.74475404, 0.74607617, 0.74375555,\n",
       "       0.74401887, 0.74169017, 0.74221489, 0.74104696, 0.74130877,\n",
       "       0.73896656, 0.73948824, 0.73713692, 0.7373968 , 0.73621791,\n",
       "       0.73647728, 0.73174104, 0.73199865, 0.72603279, 0.72628821,\n",
       "       0.72508872, 0.72559845, 0.72198549, 0.72249233, 0.72128313,\n",
       "       0.72153599, 0.71911066, 0.71936258, 0.32387514, 0.31843147,\n",
       "       0.        ])"
      ]
     },
     "execution_count": 295,
     "metadata": {},
     "output_type": "execute_result"
    }
   ],
   "source": [
    "gmeans"
   ]
  },
  {
   "cell_type": "code",
   "execution_count": 296,
   "metadata": {},
   "outputs": [],
   "source": [
    "y_pred_new = []\n",
    "for i in log_pred_prob[:,1]:\n",
    "  if i < 0.7007985000648502:\n",
    "    y_pred_new.append(0)\n",
    "  else:\n",
    "    y_pred_new.append(1)"
   ]
  },
  {
   "cell_type": "code",
   "execution_count": 297,
   "metadata": {},
   "outputs": [
    {
     "name": "stdout",
     "output_type": "stream",
     "text": [
      "0.8641165755919854\n"
     ]
    }
   ],
   "source": [
    "print(f1_score(y_pred_new,y_test))"
   ]
  },
  {
   "cell_type": "code",
   "execution_count": 298,
   "metadata": {},
   "outputs": [],
   "source": [
    "fpr, tpr, tresholds = roc_curve(y_test,y_pred_new)"
   ]
  },
  {
   "cell_type": "code",
   "execution_count": 299,
   "metadata": {},
   "outputs": [
    {
     "data": {
      "text/plain": [
       "[<matplotlib.lines.Line2D at 0x13d1bcf10>]"
      ]
     },
     "execution_count": 299,
     "metadata": {},
     "output_type": "execute_result"
    },
    {
     "data": {
      "image/png": "[encoded data removed]",
      "text/plain": [
       "<Figure size 640x480 with 1 Axes>"
      ]
     },
     "metadata": {},
     "output_type": "display_data"
    }
   ],
   "source": [
    "plt.plot(fpr,tpr)"
   ]
  },
  {
   "attachments": {},
   "cell_type": "markdown",
   "metadata": {},
   "source": [
    "1. Your data exploration findings, initial hypothesis, and whether the hypothesis proved true.\n",
    "2. Your approach for building and evaluating the model. \n",
    "3. The final model you selected and how you know this is the best model for the problem.\n",
    "4. How the model should be used by the business, in business process."
   ]
  }
 ],
 "metadata": {
  "kernelspec": {
   "display_name": "Python 3",
   "language": "python",
   "name": "python3"
  },
  "language_info": {
   "codemirror_mode": {
    "name": "ipython",
    "version": 3
   },
   "file_extension": ".py",
   "mimetype": "text/x-python",
   "name": "python",
   "nbconvert_exporter": "python",
   "pygments_lexer": "ipython3",
   "version": "3.11.1"
  },
  "orig_nbformat": 4
 },
 "nbformat": 4,
 "nbformat_minor": 2
}
